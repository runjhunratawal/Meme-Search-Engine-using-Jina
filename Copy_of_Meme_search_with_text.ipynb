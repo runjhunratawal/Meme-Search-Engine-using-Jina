{
  "cells": [
    {
      "cell_type": "markdown",
      "metadata": {
        "id": "view-in-github",
        "colab_type": "text"
      },
      "source": [
        "<a href=\"https://colab.research.google.com/github/runjhunratawal/Meme-Search-Engine-using-Jina/blob/main/Copy_of_Meme_search_with_text.ipynb\" target=\"_parent\"><img src=\"https://colab.research.google.com/assets/colab-badge.svg\" alt=\"Open In Colab\"/></a>"
      ]
    },
    {
      "cell_type": "markdown",
      "metadata": {
        "id": "d-6qZXne-aDr"
      },
      "source": [
        "# Jina Meme Search Workshop\n",
        "\n",
        "![](http://examples.jina.ai/images/meme_search.gif)\n",
        "\n",
        "In this workshop we're going to build a meme search engine using [Jina](https://github.com/jina-ai/jina/). It will search a dataset of memes and return URLs to the images as well as metadata.\n",
        "\n",
        "For this workshop we'll just focus on searching **text**. For a more complete repo (including text/image search and frontend) you can check [this link](https://github.com/alexcg1/jina-meme-search).\n",
        "\n",
        "You can play with a live example [here](https://examples.jina.ai)."
      ]
    },
    {
      "cell_type": "markdown",
      "metadata": {
        "id": "6Z78EEojD62d"
      },
      "source": [
        "# Prerequisites\n",
        "\n",
        "- Check out [Jina's repo](https://github.com/jina-ai/jina/) to understand what Jina does\n",
        "- Watch [Neural search using cute fuzzy animals](https://www.youtube.com/watch?v=3FyddFAFNPQ) to understand how neural search works\n",
        "- Watch [Jina basics in under two minutes](https://www.youtube.com/watch?v=mnnC37ewQI8) to learn the fundamental components of Jina"
      ]
    },
    {
      "cell_type": "markdown",
      "metadata": {
        "id": "aiA2BOr3D62e"
      },
      "source": [
        "# Terminology\n",
        "\n",
        "Let's go through the words we'll be using in this workshop.\n",
        "\n",
        "In our example, we'll search through all the <code>text</code> (which comes from a JSON file) and then display the image <code>uri</code> of each match.\n",
        "\n",
        "<table>\n",
        "    <tr>\n",
        "        <td>\n",
        "            <img src=\"https://raw.githubusercontent.com/jina-ai/workshops/main/memes/koala.png\" width=300 align=\"left\">\n",
        "        </td>\n",
        "        <td>\n",
        "            <table>\n",
        "                <tr>\n",
        "                    <td>Template</td>\n",
        "                    <td>Surprised Koala</td>\n",
        "                </tr>\n",
        "                <tr>\n",
        "                    <td>Caption</td>\n",
        "                    <td>This is poisonous. What</td>\n",
        "                </tr>\n",
        "                <tr>\n",
        "                    <td><code>uri</code></td>\n",
        "                    <td>https//i.imgflip.com/foo_bar.jpg</td>\n",
        "                </tr>\n",
        "                <tr>\n",
        "                    <td><code>text</code></td>\n",
        "                    <td>Surprised Koala | This is poisonous. What</td>\n",
        "                </tr>\n",
        "            </table>\n",
        "        </td>\n",
        "    </tr>\n",
        "</table>"
      ]
    },
    {
      "cell_type": "markdown",
      "metadata": {
        "id": "oo73MH5JD62e"
      },
      "source": [
        "# Set up basics"
      ]
    },
    {
      "cell_type": "markdown",
      "metadata": {
        "id": "_kRBmAf-D62e"
      },
      "source": [
        "## Housekeeping"
      ]
    },
    {
      "cell_type": "markdown",
      "metadata": {
        "id": "40xrtS-5D62f"
      },
      "source": [
        "### Clean up from last time"
      ]
    },
    {
      "cell_type": "code",
      "execution_count": 1,
      "metadata": {
        "id": "VO0RVuiPD62f"
      },
      "outputs": [],
      "source": [
        "!cd /\n",
        "!rm -rf workspace images sample_data"
      ]
    },
    {
      "cell_type": "markdown",
      "metadata": {
        "id": "48NONb_xD62g"
      },
      "source": [
        "### Set basic options"
      ]
    },
    {
      "cell_type": "code",
      "execution_count": 2,
      "metadata": {
        "id": "PSoLv4yPD62g",
        "colab": {
          "base_uri": "https://localhost:8080/"
        },
        "outputId": "5c6a41f2-98cc-4e43-a393-fd745827524a"
      },
      "outputs": [
        {
          "output_type": "stream",
          "name": "stdout",
          "text": [
            "Enabling notebook extension jupyter-js-widgets/extension...\n",
            "      - Validating: \u001b[32mOK\u001b[0m\n"
          ]
        }
      ],
      "source": [
        "# Enable Jupyter widgets so we can see images\n",
        "!jupyter nbextension enable --py widgetsnbextension\n",
        "\n",
        "# Disable warnings\n",
        "import warnings\n",
        "warnings.filterwarnings('ignore')"
      ]
    },
    {
      "cell_type": "markdown",
      "metadata": {
        "id": "__Q5M9EeD62g"
      },
      "source": [
        "## Set maximum images to index\n",
        "\n",
        "Since this is just a workshop and not a real-world application we'll just search through 50 memes. This will save us time in processing."
      ]
    },
    {
      "cell_type": "code",
      "execution_count": 3,
      "metadata": {
        "id": "YjfvYIueD62g"
      },
      "outputs": [],
      "source": [
        "max_docs = 50"
      ]
    },
    {
      "cell_type": "markdown",
      "metadata": {
        "id": "hjDI5WMT-uEb"
      },
      "source": [
        "## Install Prerequisites"
      ]
    },
    {
      "cell_type": "code",
      "execution_count": 4,
      "metadata": {
        "id": "JyvR2vJC37nR",
        "colab": {
          "base_uri": "https://localhost:8080/"
        },
        "outputId": "64e84736-3745-4161-80cd-91c028c2ff78"
      },
      "outputs": [
        {
          "output_type": "stream",
          "name": "stdout",
          "text": [
            "Requirement already satisfied: jina==2.6.4 in /usr/local/lib/python3.7/dist-packages (2.6.4)\n",
            "Requirement already satisfied: aiofiles in /usr/local/lib/python3.7/dist-packages (from jina==2.6.4) (0.8.0)\n",
            "Requirement already satisfied: rich in /usr/local/lib/python3.7/dist-packages (from jina==2.6.4) (11.1.0)\n",
            "Requirement already satisfied: aiostream in /usr/local/lib/python3.7/dist-packages (from jina==2.6.4) (0.4.4)\n",
            "Requirement already satisfied: pyzmq>=17.1.0 in /usr/local/lib/python3.7/dist-packages (from jina==2.6.4) (22.3.0)\n",
            "Requirement already satisfied: tornado>=5.1.0 in /usr/local/lib/python3.7/dist-packages (from jina==2.6.4) (5.1.1)\n",
            "Requirement already satisfied: websockets in /usr/local/lib/python3.7/dist-packages (from jina==2.6.4) (10.1)\n",
            "Requirement already satisfied: numpy in /usr/local/lib/python3.7/dist-packages (from jina==2.6.4) (1.19.5)\n",
            "Requirement already satisfied: pathspec in /usr/local/lib/python3.7/dist-packages (from jina==2.6.4) (0.9.0)\n",
            "Requirement already satisfied: uvloop in /usr/local/lib/python3.7/dist-packages (from jina==2.6.4) (0.16.0)\n",
            "Requirement already satisfied: kubernetes>=18.20.0 in /usr/local/lib/python3.7/dist-packages (from jina==2.6.4) (21.7.0)\n",
            "Requirement already satisfied: uvicorn[standard]>=0.14.0 in /usr/local/lib/python3.7/dist-packages (from jina==2.6.4) (0.17.1)\n",
            "Requirement already satisfied: filelock in /usr/local/lib/python3.7/dist-packages (from jina==2.6.4) (3.4.2)\n",
            "Requirement already satisfied: aiohttp in /usr/local/lib/python3.7/dist-packages (from jina==2.6.4) (3.8.1)\n",
            "Requirement already satisfied: cryptography in /usr/local/lib/python3.7/dist-packages (from jina==2.6.4) (36.0.1)\n",
            "Requirement already satisfied: lz4<3.1.2 in /usr/local/lib/python3.7/dist-packages (from jina==2.6.4) (3.1.1)\n",
            "Requirement already satisfied: pydantic in /usr/local/lib/python3.7/dist-packages (from jina==2.6.4) (1.9.0)\n",
            "Requirement already satisfied: grpcio>=1.33.1 in /usr/local/lib/python3.7/dist-packages (from jina==2.6.4) (1.43.0)\n",
            "Requirement already satisfied: docker in /usr/local/lib/python3.7/dist-packages (from jina==2.6.4) (5.0.3)\n",
            "Requirement already satisfied: protobuf>=3.13.0 in /usr/local/lib/python3.7/dist-packages (from jina==2.6.4) (3.17.3)\n",
            "Requirement already satisfied: pyyaml>=5.3.1 in /usr/local/lib/python3.7/dist-packages (from jina==2.6.4) (6.0)\n",
            "Requirement already satisfied: fastapi in /usr/local/lib/python3.7/dist-packages (from jina==2.6.4) (0.73.0)\n",
            "Requirement already satisfied: python-multipart in /usr/local/lib/python3.7/dist-packages (from jina==2.6.4) (0.0.5)\n",
            "Requirement already satisfied: requests in /usr/local/lib/python3.7/dist-packages (from jina==2.6.4) (2.23.0)\n",
            "Requirement already satisfied: six>=1.5.2 in /usr/local/lib/python3.7/dist-packages (from grpcio>=1.33.1->jina==2.6.4) (1.15.0)\n",
            "Requirement already satisfied: certifi>=14.05.14 in /usr/local/lib/python3.7/dist-packages (from kubernetes>=18.20.0->jina==2.6.4) (2021.10.8)\n",
            "Requirement already satisfied: google-auth>=1.0.1 in /usr/local/lib/python3.7/dist-packages (from kubernetes>=18.20.0->jina==2.6.4) (1.35.0)\n",
            "Requirement already satisfied: requests-oauthlib in /usr/local/lib/python3.7/dist-packages (from kubernetes>=18.20.0->jina==2.6.4) (1.3.0)\n",
            "Requirement already satisfied: python-dateutil>=2.5.3 in /usr/local/lib/python3.7/dist-packages (from kubernetes>=18.20.0->jina==2.6.4) (2.8.2)\n",
            "Requirement already satisfied: setuptools>=21.0.0 in /usr/local/lib/python3.7/dist-packages (from kubernetes>=18.20.0->jina==2.6.4) (57.4.0)\n",
            "Requirement already satisfied: websocket-client!=0.40.0,!=0.41.*,!=0.42.*,>=0.32.0 in /usr/local/lib/python3.7/dist-packages (from kubernetes>=18.20.0->jina==2.6.4) (1.2.3)\n",
            "Requirement already satisfied: urllib3>=1.24.2 in /usr/local/lib/python3.7/dist-packages (from kubernetes>=18.20.0->jina==2.6.4) (1.24.3)\n",
            "Requirement already satisfied: cachetools<5.0,>=2.0.0 in /usr/local/lib/python3.7/dist-packages (from google-auth>=1.0.1->kubernetes>=18.20.0->jina==2.6.4) (4.2.4)\n",
            "Requirement already satisfied: rsa<5,>=3.1.4 in /usr/local/lib/python3.7/dist-packages (from google-auth>=1.0.1->kubernetes>=18.20.0->jina==2.6.4) (4.8)\n",
            "Requirement already satisfied: pyasn1-modules>=0.2.1 in /usr/local/lib/python3.7/dist-packages (from google-auth>=1.0.1->kubernetes>=18.20.0->jina==2.6.4) (0.2.8)\n",
            "Requirement already satisfied: pyasn1<0.5.0,>=0.4.6 in /usr/local/lib/python3.7/dist-packages (from pyasn1-modules>=0.2.1->google-auth>=1.0.1->kubernetes>=18.20.0->jina==2.6.4) (0.4.8)\n",
            "Requirement already satisfied: typing-extensions in /usr/local/lib/python3.7/dist-packages (from uvicorn[standard]>=0.14.0->jina==2.6.4) (3.10.0.2)\n",
            "Requirement already satisfied: asgiref>=3.4.0 in /usr/local/lib/python3.7/dist-packages (from uvicorn[standard]>=0.14.0->jina==2.6.4) (3.5.0)\n",
            "Requirement already satisfied: h11>=0.8 in /usr/local/lib/python3.7/dist-packages (from uvicorn[standard]>=0.14.0->jina==2.6.4) (0.13.0)\n",
            "Requirement already satisfied: click>=7.0 in /usr/local/lib/python3.7/dist-packages (from uvicorn[standard]>=0.14.0->jina==2.6.4) (7.1.2)\n",
            "Requirement already satisfied: httptools<0.4.0,>=0.2.0 in /usr/local/lib/python3.7/dist-packages (from uvicorn[standard]>=0.14.0->jina==2.6.4) (0.3.0)\n",
            "Requirement already satisfied: python-dotenv>=0.13 in /usr/local/lib/python3.7/dist-packages (from uvicorn[standard]>=0.14.0->jina==2.6.4) (0.19.2)\n",
            "Requirement already satisfied: watchgod>=0.6 in /usr/local/lib/python3.7/dist-packages (from uvicorn[standard]>=0.14.0->jina==2.6.4) (0.7)\n",
            "Requirement already satisfied: charset-normalizer<3.0,>=2.0 in /usr/local/lib/python3.7/dist-packages (from aiohttp->jina==2.6.4) (2.0.10)\n",
            "Requirement already satisfied: frozenlist>=1.1.1 in /usr/local/lib/python3.7/dist-packages (from aiohttp->jina==2.6.4) (1.3.0)\n",
            "Requirement already satisfied: async-timeout<5.0,>=4.0.0a3 in /usr/local/lib/python3.7/dist-packages (from aiohttp->jina==2.6.4) (4.0.2)\n",
            "Requirement already satisfied: asynctest==0.13.0 in /usr/local/lib/python3.7/dist-packages (from aiohttp->jina==2.6.4) (0.13.0)\n",
            "Requirement already satisfied: aiosignal>=1.1.2 in /usr/local/lib/python3.7/dist-packages (from aiohttp->jina==2.6.4) (1.2.0)\n",
            "Requirement already satisfied: yarl<2.0,>=1.0 in /usr/local/lib/python3.7/dist-packages (from aiohttp->jina==2.6.4) (1.7.2)\n",
            "Requirement already satisfied: multidict<7.0,>=4.5 in /usr/local/lib/python3.7/dist-packages (from aiohttp->jina==2.6.4) (6.0.2)\n",
            "Requirement already satisfied: attrs>=17.3.0 in /usr/local/lib/python3.7/dist-packages (from aiohttp->jina==2.6.4) (21.4.0)\n",
            "Requirement already satisfied: idna>=2.0 in /usr/local/lib/python3.7/dist-packages (from yarl<2.0,>=1.0->aiohttp->jina==2.6.4) (2.10)\n",
            "Requirement already satisfied: cffi>=1.12 in /usr/local/lib/python3.7/dist-packages (from cryptography->jina==2.6.4) (1.15.0)\n",
            "Requirement already satisfied: pycparser in /usr/local/lib/python3.7/dist-packages (from cffi>=1.12->cryptography->jina==2.6.4) (2.21)\n",
            "Requirement already satisfied: chardet<4,>=3.0.2 in /usr/local/lib/python3.7/dist-packages (from requests->jina==2.6.4) (3.0.4)\n",
            "Requirement already satisfied: starlette==0.17.1 in /usr/local/lib/python3.7/dist-packages (from fastapi->jina==2.6.4) (0.17.1)\n",
            "Requirement already satisfied: anyio<4,>=3.0.0 in /usr/local/lib/python3.7/dist-packages (from starlette==0.17.1->fastapi->jina==2.6.4) (3.5.0)\n",
            "Requirement already satisfied: sniffio>=1.1 in /usr/local/lib/python3.7/dist-packages (from anyio<4,>=3.0.0->starlette==0.17.1->fastapi->jina==2.6.4) (1.2.0)\n",
            "Requirement already satisfied: oauthlib>=3.0.0 in /usr/local/lib/python3.7/dist-packages (from requests-oauthlib->kubernetes>=18.20.0->jina==2.6.4) (3.1.1)\n",
            "Requirement already satisfied: commonmark<0.10.0,>=0.9.0 in /usr/local/lib/python3.7/dist-packages (from rich->jina==2.6.4) (0.9.1)\n",
            "Requirement already satisfied: colorama<0.5.0,>=0.4.0 in /usr/local/lib/python3.7/dist-packages (from rich->jina==2.6.4) (0.4.4)\n",
            "Requirement already satisfied: pygments<3.0.0,>=2.6.0 in /usr/local/lib/python3.7/dist-packages (from rich->jina==2.6.4) (2.6.1)\n",
            "Requirement already satisfied: ipywidgets==7.6.5 in /usr/local/lib/python3.7/dist-packages (7.6.5)\n",
            "Requirement already satisfied: ipython>=4.0.0 in /usr/local/lib/python3.7/dist-packages (from ipywidgets==7.6.5) (5.5.0)\n",
            "Requirement already satisfied: traitlets>=4.3.1 in /usr/local/lib/python3.7/dist-packages (from ipywidgets==7.6.5) (5.1.1)\n",
            "Requirement already satisfied: nbformat>=4.2.0 in /usr/local/lib/python3.7/dist-packages (from ipywidgets==7.6.5) (5.1.3)\n",
            "Requirement already satisfied: widgetsnbextension~=3.5.0 in /usr/local/lib/python3.7/dist-packages (from ipywidgets==7.6.5) (3.5.2)\n",
            "Requirement already satisfied: ipykernel>=4.5.1 in /usr/local/lib/python3.7/dist-packages (from ipywidgets==7.6.5) (4.10.1)\n",
            "Requirement already satisfied: ipython-genutils~=0.2.0 in /usr/local/lib/python3.7/dist-packages (from ipywidgets==7.6.5) (0.2.0)\n",
            "Requirement already satisfied: jupyterlab-widgets>=1.0.0 in /usr/local/lib/python3.7/dist-packages (from ipywidgets==7.6.5) (1.0.2)\n",
            "Requirement already satisfied: jupyter-client in /usr/local/lib/python3.7/dist-packages (from ipykernel>=4.5.1->ipywidgets==7.6.5) (5.3.5)\n",
            "Requirement already satisfied: tornado>=4.0 in /usr/local/lib/python3.7/dist-packages (from ipykernel>=4.5.1->ipywidgets==7.6.5) (5.1.1)\n",
            "Requirement already satisfied: pygments in /usr/local/lib/python3.7/dist-packages (from ipython>=4.0.0->ipywidgets==7.6.5) (2.6.1)\n",
            "Requirement already satisfied: pickleshare in /usr/local/lib/python3.7/dist-packages (from ipython>=4.0.0->ipywidgets==7.6.5) (0.7.5)\n",
            "Requirement already satisfied: prompt-toolkit<2.0.0,>=1.0.4 in /usr/local/lib/python3.7/dist-packages (from ipython>=4.0.0->ipywidgets==7.6.5) (1.0.18)\n",
            "Requirement already satisfied: decorator in /usr/local/lib/python3.7/dist-packages (from ipython>=4.0.0->ipywidgets==7.6.5) (4.4.2)\n",
            "Requirement already satisfied: pexpect in /usr/local/lib/python3.7/dist-packages (from ipython>=4.0.0->ipywidgets==7.6.5) (4.8.0)\n",
            "Requirement already satisfied: simplegeneric>0.8 in /usr/local/lib/python3.7/dist-packages (from ipython>=4.0.0->ipywidgets==7.6.5) (0.8.1)\n",
            "Requirement already satisfied: setuptools>=18.5 in /usr/local/lib/python3.7/dist-packages (from ipython>=4.0.0->ipywidgets==7.6.5) (57.4.0)\n",
            "Requirement already satisfied: jupyter-core in /usr/local/lib/python3.7/dist-packages (from nbformat>=4.2.0->ipywidgets==7.6.5) (4.9.1)\n",
            "Requirement already satisfied: jsonschema!=2.5.0,>=2.4 in /usr/local/lib/python3.7/dist-packages (from nbformat>=4.2.0->ipywidgets==7.6.5) (4.3.3)\n",
            "Requirement already satisfied: typing-extensions in /usr/local/lib/python3.7/dist-packages (from jsonschema!=2.5.0,>=2.4->nbformat>=4.2.0->ipywidgets==7.6.5) (3.10.0.2)\n",
            "Requirement already satisfied: pyrsistent!=0.17.0,!=0.17.1,!=0.17.2,>=0.14.0 in /usr/local/lib/python3.7/dist-packages (from jsonschema!=2.5.0,>=2.4->nbformat>=4.2.0->ipywidgets==7.6.5) (0.18.1)\n",
            "Requirement already satisfied: attrs>=17.4.0 in /usr/local/lib/python3.7/dist-packages (from jsonschema!=2.5.0,>=2.4->nbformat>=4.2.0->ipywidgets==7.6.5) (21.4.0)\n",
            "Requirement already satisfied: importlib-metadata in /usr/local/lib/python3.7/dist-packages (from jsonschema!=2.5.0,>=2.4->nbformat>=4.2.0->ipywidgets==7.6.5) (4.10.1)\n",
            "Requirement already satisfied: importlib-resources>=1.4.0 in /usr/local/lib/python3.7/dist-packages (from jsonschema!=2.5.0,>=2.4->nbformat>=4.2.0->ipywidgets==7.6.5) (5.4.0)\n",
            "Requirement already satisfied: zipp>=3.1.0 in /usr/local/lib/python3.7/dist-packages (from importlib-resources>=1.4.0->jsonschema!=2.5.0,>=2.4->nbformat>=4.2.0->ipywidgets==7.6.5) (3.7.0)\n",
            "Requirement already satisfied: six>=1.9.0 in /usr/local/lib/python3.7/dist-packages (from prompt-toolkit<2.0.0,>=1.0.4->ipython>=4.0.0->ipywidgets==7.6.5) (1.15.0)\n",
            "Requirement already satisfied: wcwidth in /usr/local/lib/python3.7/dist-packages (from prompt-toolkit<2.0.0,>=1.0.4->ipython>=4.0.0->ipywidgets==7.6.5) (0.2.5)\n",
            "Requirement already satisfied: notebook>=4.4.1 in /usr/local/lib/python3.7/dist-packages (from widgetsnbextension~=3.5.0->ipywidgets==7.6.5) (5.3.1)\n",
            "Requirement already satisfied: Send2Trash in /usr/local/lib/python3.7/dist-packages (from notebook>=4.4.1->widgetsnbextension~=3.5.0->ipywidgets==7.6.5) (1.8.0)\n",
            "Requirement already satisfied: nbconvert in /usr/local/lib/python3.7/dist-packages (from notebook>=4.4.1->widgetsnbextension~=3.5.0->ipywidgets==7.6.5) (5.6.1)\n",
            "Requirement already satisfied: terminado>=0.8.1 in /usr/local/lib/python3.7/dist-packages (from notebook>=4.4.1->widgetsnbextension~=3.5.0->ipywidgets==7.6.5) (0.12.1)\n",
            "Requirement already satisfied: jinja2 in /usr/local/lib/python3.7/dist-packages (from notebook>=4.4.1->widgetsnbextension~=3.5.0->ipywidgets==7.6.5) (2.11.3)\n",
            "Requirement already satisfied: python-dateutil>=2.1 in /usr/local/lib/python3.7/dist-packages (from jupyter-client->ipykernel>=4.5.1->ipywidgets==7.6.5) (2.8.2)\n",
            "Requirement already satisfied: pyzmq>=13 in /usr/local/lib/python3.7/dist-packages (from jupyter-client->ipykernel>=4.5.1->ipywidgets==7.6.5) (22.3.0)\n",
            "Requirement already satisfied: ptyprocess in /usr/local/lib/python3.7/dist-packages (from terminado>=0.8.1->notebook>=4.4.1->widgetsnbextension~=3.5.0->ipywidgets==7.6.5) (0.7.0)\n",
            "Requirement already satisfied: MarkupSafe>=0.23 in /usr/local/lib/python3.7/dist-packages (from jinja2->notebook>=4.4.1->widgetsnbextension~=3.5.0->ipywidgets==7.6.5) (2.0.1)\n",
            "Requirement already satisfied: testpath in /usr/local/lib/python3.7/dist-packages (from nbconvert->notebook>=4.4.1->widgetsnbextension~=3.5.0->ipywidgets==7.6.5) (0.5.0)\n",
            "Requirement already satisfied: entrypoints>=0.2.2 in /usr/local/lib/python3.7/dist-packages (from nbconvert->notebook>=4.4.1->widgetsnbextension~=3.5.0->ipywidgets==7.6.5) (0.3)\n",
            "Requirement already satisfied: bleach in /usr/local/lib/python3.7/dist-packages (from nbconvert->notebook>=4.4.1->widgetsnbextension~=3.5.0->ipywidgets==7.6.5) (4.1.0)\n",
            "Requirement already satisfied: mistune<2,>=0.8.1 in /usr/local/lib/python3.7/dist-packages (from nbconvert->notebook>=4.4.1->widgetsnbextension~=3.5.0->ipywidgets==7.6.5) (0.8.4)\n",
            "Requirement already satisfied: defusedxml in /usr/local/lib/python3.7/dist-packages (from nbconvert->notebook>=4.4.1->widgetsnbextension~=3.5.0->ipywidgets==7.6.5) (0.7.1)\n",
            "Requirement already satisfied: pandocfilters>=1.4.1 in /usr/local/lib/python3.7/dist-packages (from nbconvert->notebook>=4.4.1->widgetsnbextension~=3.5.0->ipywidgets==7.6.5) (1.5.0)\n",
            "Requirement already satisfied: webencodings in /usr/local/lib/python3.7/dist-packages (from bleach->nbconvert->notebook>=4.4.1->widgetsnbextension~=3.5.0->ipywidgets==7.6.5) (0.5.1)\n",
            "Requirement already satisfied: packaging in /usr/local/lib/python3.7/dist-packages (from bleach->nbconvert->notebook>=4.4.1->widgetsnbextension~=3.5.0->ipywidgets==7.6.5) (21.3)\n",
            "Requirement already satisfied: pyparsing!=3.0.5,>=2.0.2 in /usr/local/lib/python3.7/dist-packages (from packaging->bleach->nbconvert->notebook>=4.4.1->widgetsnbextension~=3.5.0->ipywidgets==7.6.5) (3.0.7)\n"
          ]
        }
      ],
      "source": [
        "!pip install jina==2.6.4\n",
        "!pip install ipywidgets==7.6.5 # Get nice widgets in the notebook"
      ]
    },
    {
      "cell_type": "markdown",
      "metadata": {
        "id": "f827Mkip-wxl"
      },
      "source": [
        "# Process data\n",
        "\n",
        "We use an open-source dataset from imgflip, originally downloaded from [Kaggle](https://www.kaggle.com/abhishtagatya/imgflipscraped-memes-caption-dataset).\n",
        "\n",
        "## Why this dataset?\n",
        "\n",
        "We chose this dataset because\n",
        "\n",
        "- It has rich metadata (caption, template name)\n",
        "- It has recognizable memes (many datasets were just random pics with overlaid Impact font)\n",
        "- It doesn't *seem* to have too many racist/sexist/\\*phobic memes 🤞\n",
        "\n",
        "## Why does this dataset kinda suck?\n",
        "\n",
        "It only contains so many memes, and new memes come out all the time. So it won't have the latest, dankest stuff."
      ]
    },
    {
      "cell_type": "markdown",
      "metadata": {
        "id": "OFCeWY-KD62o"
      },
      "source": [
        "## Download data"
      ]
    },
    {
      "cell_type": "code",
      "execution_count": 5,
      "metadata": {
        "id": "Gz6sKxwm3jw-"
      },
      "outputs": [],
      "source": [
        "!mkdir -p data\n",
        "!wget -O data/memes.json -nc https://jina-examples-datasets.s3.amazonaws.com/memes/memes.json -q"
      ]
    },
    {
      "cell_type": "markdown",
      "metadata": {
        "id": "14lerh7__Mlb"
      },
      "source": [
        "## Load data\n",
        "\n",
        "I've written a function to help load the data from the JSON file we downloaded earlier.\n",
        "\n",
        "In this function we:\n",
        "\n",
        "- Create a `DocumentArray` to hold `Documents` (using [docarray package](https://docarray.jina.ai))\n",
        "- Optionally shuffle the memes\n",
        "- Create a `Document` for each meme\n",
        "- Set `Document.text` to the template name (e.g. `\"Surprised Koala\"`) + meme caption (e.g. `\"This is poisonous. What\"`)\n",
        "- Populate some `tags` for the `Document` (e.g. absolute URL for image)"
      ]
    },
    {
      "cell_type": "code",
      "execution_count": 6,
      "metadata": {
        "id": "BiyIopC7CfqD"
      },
      "outputs": [],
      "source": [
        "from docarray import Document, DocumentArray"
      ]
    },
    {
      "cell_type": "code",
      "execution_count": 7,
      "metadata": {
        "id": "Lhx-gD5b30JJ"
      },
      "outputs": [],
      "source": [
        "import json\n",
        "def prep_docs(input_file, num_docs=None, shuffle=True):\n",
        "    docs = DocumentArray()\n",
        "    memes = []\n",
        "    print(f\"Processing {input_file}\")\n",
        "    with open(input_file, \"r\") as file:\n",
        "        raw_json = json.loads(file.read())\n",
        "\n",
        "    for template in raw_json:\n",
        "        for meme in template[\"generated_memes\"]:\n",
        "            meme[\"template\"] = template[\"name\"]\n",
        "        memes.extend(template[\"generated_memes\"])\n",
        "\n",
        "    if shuffle:\n",
        "        import random\n",
        "        random_seed = 1337\n",
        "\n",
        "        random.seed(random_seed)\n",
        "        random.shuffle(memes)\n",
        "\n",
        "    for meme in memes[:num_docs]:\n",
        "        doctext = f\"{meme['template']} - {meme['caption_text']}\"\n",
        "        doc = Document(text=doctext)\n",
        "        doc.tags = meme\n",
        "        doc.tags[\"uri_absolute\"] = \"http:\" + doc.tags[\"image_url\"]\n",
        "        docs.extend([doc])\n",
        "\n",
        "    return docs"
      ]
    },
    {
      "cell_type": "code",
      "execution_count": 8,
      "metadata": {
        "id": "rcg_sQKZ5EyA",
        "colab": {
          "base_uri": "https://localhost:8080/"
        },
        "outputId": "4f0b56ab-bd35-4135-b132-5dca7ab4875e"
      },
      "outputs": [
        {
          "output_type": "stream",
          "name": "stdout",
          "text": [
            "Processing data/memes.json\n"
          ]
        }
      ],
      "source": [
        "docs = prep_docs(\n",
        "    input_file=\"data/memes.json\", \n",
        "    num_docs=max_docs, \n",
        "    shuffle=False\n",
        ")"
      ]
    },
    {
      "cell_type": "code",
      "execution_count": 9,
      "metadata": {
        "id": "mFeGp39PD62q",
        "colab": {
          "base_uri": "https://localhost:8080/"
        },
        "outputId": "19103bc7-51cf-4b0e-96ce-c5cb104b8e7d"
      },
      "outputs": [
        {
          "output_type": "stream",
          "name": "stdout",
          "text": [
            "File ‘helper.py’ already there; not retrieving.\n",
            "\n"
          ]
        }
      ],
      "source": [
        "!wget -nc https://raw.githubusercontent.com/jina-ai/workshops/main/memes/helper.py\n",
        "from helper import show_images"
      ]
    },
    {
      "cell_type": "code",
      "execution_count": 10,
      "metadata": {
        "id": "uSD3CAfVD62q",
        "colab": {
          "base_uri": "https://localhost:8080/",
          "height": 338,
          "referenced_widgets": [
            "a6bf1f3e4f854ad38886bd1b437fa956",
            "394e2cbb025946fd9939540ab826e100",
            "aeeb7066929a4aa5a820efd70468f5bd",
            "19110022e91d44abb551105ba1b86c84",
            "a85a174ba336462fbb089894efb9c49a",
            "83b68274c1f64a99a0f3921b57abedfd",
            "450b28caed3d4db6a89fed418cb26b33",
            "d1b0f36d9bed4bc1b49ed07390c14cb4",
            "1a7da82c2d7b408a8acfd586499c3827",
            "0c538d7f2b57432da40b91f020bf8c81",
            "93ae71dfa1f34c9dbc3f685781667bd5",
            "f45379ddc8cc44a5942c7d9eadbab576"
          ]
        },
        "outputId": "a90fbd02-3505-4546-ed89-d6285d4049f9"
      },
      "outputs": [
        {
          "output_type": "display_data",
          "data": {
            "application/vnd.jupyter.widget-view+json": {
              "model_id": "a6bf1f3e4f854ad38886bd1b437fa956",
              "version_minor": 0,
              "version_major": 2
            },
            "text/plain": [
              "HBox(children=(Image(value=b'\\xff\\xd8\\xff\\xe0\\x00\\x10JFIF\\x00\\x01\\x01\\x00\\x00\\x01\\x00\\x01\\x00\\x00\\xff\\xdb\\x00\\…"
            ]
          },
          "metadata": {}
        }
      ],
      "source": [
        "show_images(docs)"
      ]
    },
    {
      "cell_type": "markdown",
      "metadata": {
        "id": "WgsOaom8D62r"
      },
      "source": [
        "### What does a Document look like?\n",
        "\n",
        "Let's take a look at a Document to get an idea of what's going on"
      ]
    },
    {
      "cell_type": "code",
      "execution_count": 11,
      "metadata": {
        "id": "tCYtRA3RD62r",
        "colab": {
          "base_uri": "https://localhost:8080/"
        },
        "outputId": "9877165b-a8ee-48f5-b4a3-dc9eb660deba"
      },
      "outputs": [
        {
          "output_type": "stream",
          "name": "stdout",
          "text": [
            "<docarray.document.Document ('id', 'mime_type', 'tags', 'text') at 140045744303696>\n"
          ]
        }
      ],
      "source": [
        "print(docs[0])"
      ]
    },
    {
      "cell_type": "markdown",
      "metadata": {
        "id": "5URd4dEpD62r"
      },
      "source": [
        "We can see several fields. Let's look at each of them:"
      ]
    },
    {
      "cell_type": "code",
      "execution_count": 12,
      "metadata": {
        "id": "BicahcfPD62r",
        "colab": {
          "base_uri": "https://localhost:8080/"
        },
        "outputId": "20ae8790-7fae-484b-f16e-f048a4118833"
      },
      "outputs": [
        {
          "output_type": "stream",
          "name": "stdout",
          "text": [
            "64b6fc2a81d011ec88430242ac1c0002\n",
            "Drake Hotline Bling -  my mom when i play with my phone for 30 minutes my mom when she looks at instagram phone for two hours \n",
            "text/plain\n",
            "('image_url', '//i.imgflip.com/3xd5o0.jpg')\n",
            "('id', 1.0)\n",
            "('hash_id', '73c18611930ad390a4a6a7d1cd9214daba85b9f3408997e59c1e0ab63362e7db')\n",
            "('alt_text', 'Drake Hotline Bling | my mom when i play with my phone for 30 minutes my mom when she looks at instagram phone for two hours | image tagged in memes,drake hotline bling | made w/ Imgflip meme maker')\n",
            "('template', 'Drake Hotline Bling')\n",
            "('uri_absolute', 'http://i.imgflip.com/3xd5o0.jpg')\n",
            "('caption_text', ' my mom when i play with my phone for 30 minutes my mom when she looks at instagram phone for two hours ')\n"
          ]
        }
      ],
      "source": [
        "print(docs[0].id)                  # Unique ID for index\n",
        "print(docs[0].text)                # Content we're searching through\n",
        "print(docs[0].mime_type)           # MIME type of that content\n",
        "\n",
        "for tag in docs[0].tags.items():   # Metadata\n",
        "    print(tag)"
      ]
    },
    {
      "cell_type": "markdown",
      "metadata": {
        "id": "zaTD9ssjA6a8"
      },
      "source": [
        "### Why shuffle?\n",
        "\n",
        "The memes are arranged alphabetically by template. So if we don't shuffle we're going to get very similar memes. This makes it more difficult to search for something interesting."
      ]
    },
    {
      "cell_type": "markdown",
      "metadata": {
        "id": "4CFc1OvuBGyQ"
      },
      "source": [
        "If we shuffle we get a more interesting mix:"
      ]
    },
    {
      "cell_type": "code",
      "execution_count": 28,
      "metadata": {
        "id": "Pwal0Nwh4aOq",
        "tags": [],
        "colab": {
          "base_uri": "https://localhost:8080/"
        },
        "outputId": "e45dd0fc-b560-454a-b505-d88060c69cf4"
      },
      "outputs": [
        {
          "output_type": "stream",
          "name": "stdout",
          "text": [
            "Processing data/memes.json\n"
          ]
        }
      ],
      "source": [
        "docs = prep_docs(\n",
        "    input_file=\"data/memes.json\", \n",
        "    num_docs=max_docs, \n",
        "    shuffle=True\n",
        ")"
      ]
    },
    {
      "cell_type": "code",
      "execution_count": 14,
      "metadata": {
        "id": "RaH9ELnJD62s",
        "colab": {
          "base_uri": "https://localhost:8080/",
          "height": 414,
          "referenced_widgets": [
            "e6bc94bd9b04489f86b90b4aa53e126c",
            "e4c1976f83224219b4a39666cb8e80f5",
            "f64903f8e242453db815211e209f7fa1",
            "ee45bdf654a24a488391137ccfda3eab",
            "fa681faac88244e0baede80cc18f3fec",
            "981092565e4349f08155d3b3ff719991",
            "274bf2e3f0b4490ebe69254e474e6603",
            "cb5a4a7020f9483abc8c9db56bfe2f3d",
            "ec2b06a9285d4254b96491da4d99e3de",
            "a6d9f9ee6b474c8897a414873837a2bf",
            "4d8c01d866e14c9eb3dd9aa58cb2e551",
            "4dbe9c91d72342f69eb8f878e3d50510"
          ]
        },
        "outputId": "d859c03f-1c4e-4686-9a94-a79b9328d429"
      },
      "outputs": [
        {
          "output_type": "display_data",
          "data": {
            "application/vnd.jupyter.widget-view+json": {
              "model_id": "e6bc94bd9b04489f86b90b4aa53e126c",
              "version_minor": 0,
              "version_major": 2
            },
            "text/plain": [
              "HBox(children=(Image(value=b'\\xff\\xd8\\xff\\xe0\\x00\\x10JFIF\\x00\\x01\\x01\\x00\\x00\\x01\\x00\\x01\\x00\\x00\\xff\\xdb\\x00\\…"
            ]
          },
          "metadata": {}
        }
      ],
      "source": [
        "show_images(docs)"
      ]
    },
    {
      "cell_type": "markdown",
      "metadata": {
        "id": "_bof682zD62s"
      },
      "source": [
        "# Index and search data with Flow"
      ]
    },
    {
      "cell_type": "markdown",
      "metadata": {
        "id": "wKuRVFJzBayO"
      },
      "source": [
        "## Set up Flow\n",
        "\n",
        "Before we index or search, we need to create our Flow. Only then can we open it as a context manager and do stuff with it."
      ]
    },
    {
      "cell_type": "code",
      "execution_count": 15,
      "metadata": {
        "id": "ae9vrzNICVbs"
      },
      "outputs": [],
      "source": [
        "from jina import Flow"
      ]
    },
    {
      "cell_type": "code",
      "execution_count": 16,
      "metadata": {
        "id": "2mxPSbjp6KwW"
      },
      "outputs": [],
      "source": [
        "flow = (\n",
        "    Flow()\n",
        "    .add(\n",
        "        name=\"meme_text_encoder\",\n",
        "        uses=\"jinahub://SpacyTextEncoder/v0.3\",                 # Using Executors from Jina Hub means we don't need to write our own!\n",
        "        uses_with={\"model_name\": \"en_core_web_md\"},\n",
        "        install_requirements=True\n",
        "    )\n",
        "    .add(\n",
        "        name=\"meme_text_indexer\",\n",
        "        uses=\"jinahub://SimpleIndexer/v0.11\",\n",
        "        install_requirements=True\n",
        "    )\n",
        ")"
      ]
    },
    {
      "cell_type": "markdown",
      "metadata": {
        "id": "t-7aUULtBdSA"
      },
      "source": [
        "## Index data with Flow\n",
        "\n",
        "We use our Flow to build an index of where all the meme text embeddings lie on an n-dimensional graph"
      ]
    },
    {
      "cell_type": "markdown",
      "metadata": {
        "id": "UjfGPsqqD62t"
      },
      "source": [
        "**Note:** If the notebook crashes here, restart (don't factory-reset) it and run all cells again. This seems to be a bug in Google Colab."
      ]
    },
    {
      "cell_type": "code",
      "execution_count": 17,
      "metadata": {
        "id": "rpCo9it_6kLm",
        "tags": [],
        "colab": {
          "base_uri": "https://localhost:8080/",
          "height": 1000
        },
        "outputId": "150d5f74-99d1-4c2b-878b-4f897786ee7f"
      },
      "outputs": [
        {
          "output_type": "display_data",
          "data": {
            "text/html": [
              "<pre style=\"white-space:pre;overflow-x:auto;line-height:normal;font-family:Menlo,'DejaVu Sans Mono',consolas,'Courier New',monospace\"></pre>\n"
            ],
            "text/plain": [
              ""
            ]
          },
          "metadata": {}
        },
        {
          "output_type": "display_data",
          "data": {
            "text/html": [
              "<pre style=\"white-space:pre;overflow-x:auto;line-height:normal;font-family:Menlo,'DejaVu Sans Mono',consolas,'Courier New',monospace\"></pre>\n"
            ],
            "text/plain": [
              ""
            ]
          },
          "metadata": {}
        },
        {
          "output_type": "stream",
          "name": "stdout",
          "text": [
            "\u001b[32m⠏\u001b[0m 2/3 waiting \u001b[33mmeme_text_encoder\u001b[0m to be ready..."
          ]
        },
        {
          "output_type": "stream",
          "name": "stderr",
          "text": [
            "\u001b[1;33mDeprecationWarning: SelectableGroups dict interface is deprecated. Use select.\u001b[0m \u001b[1;30m(raised from /usr/local/lib/python3.7/dist-packages/catalogue.py:138)\u001b[0m\n"
          ]
        },
        {
          "output_type": "stream",
          "name": "stdout",
          "text": [
            "\u001b[32m⠙\u001b[0m 2/3 waiting \u001b[33mmeme_text_encoder\u001b[0m to be ready..."
          ]
        },
        {
          "output_type": "stream",
          "name": "stderr",
          "text": [
            "\u001b[1;33mDeprecationWarning: SelectableGroups dict interface is deprecated. Use select.\u001b[0m \u001b[1;30m(raised from /usr/local/lib/python3.7/dist-packages/catalogue.py:138)\u001b[0m\n",
            "\u001b[1;33mDeprecationWarning: SelectableGroups dict interface is deprecated. Use select.\u001b[0m \u001b[1;30m(raised from /usr/local/lib/python3.7/dist-packages/catalogue.py:126)\u001b[0m\n",
            "\u001b[1;33mDeprecationWarning: SelectableGroups dict interface is deprecated. Use select.\u001b[0m \u001b[1;30m(raised from /usr/local/lib/python3.7/dist-packages/catalogue.py:138)\u001b[0m\n"
          ]
        },
        {
          "output_type": "stream",
          "name": "stdout",
          "text": [
            "           Flow@345[I]:\u001b[32m🎉 Flow is ready to use!\u001b[0m\n",
            "\t🔗 Protocol: \t\t\u001b[1mGRPC\u001b[0m\n",
            "\t🏠 Local access:\t\u001b[4m\u001b[36m0.0.0.0:54407\u001b[0m\n",
            "\t🔒 Private network:\t\u001b[4m\u001b[36m172.28.0.2:54407\u001b[0m\n",
            "\t🌐 Public address:\t\u001b[4m\u001b[36m34.90.178.248:54407\u001b[0m\u001b[0m\n",
            "\u001b[32m⠋\u001b[0m Working... \u001b[32m━━━━━━━━━━━━━━━━━━━━━━━━━━━━━━━━━━━━━━━━\u001b[0m\u001b[32m╸\u001b[0m\u001b[2m\u001b[32m\u001b[0m \u001b[36m0:00:00\u001b[0m estimating... "
          ]
        },
        {
          "output_type": "stream",
          "name": "stderr",
          "text": [
            "\u001b[1;33mDeprecationWarning: \n",
            "            The syntax of traversal_path is changed to comma-separated string, '\n",
            "            that means your need to change ('r',) into `r`. '\n",
            "            The old list of string syntax will be deprecated soon\n",
            "            \u001b[0m \u001b[1;30m(raised from /usr/local/lib/python3.7/dist-packages/docarray/array/mixins/traverse.py:28)\u001b[0m\n",
            "\u001b[1;33mDeprecationWarning: SelectableGroups dict interface is deprecated. Use select.\u001b[0m \u001b[1;30m(raised from /usr/local/lib/python3.7/dist-packages/catalogue.py:138)\u001b[0m\n",
            "\u001b[1;33mDeprecationWarning: SelectableGroups dict interface is deprecated. Use select.\u001b[0m \u001b[1;30m(raised from /usr/local/lib/python3.7/dist-packages/catalogue.py:138)\u001b[0m\n",
            "\u001b[1;33mDeprecationWarning: SelectableGroups dict interface is deprecated. Use select.\u001b[0m \u001b[1;30m(raised from /usr/local/lib/python3.7/dist-packages/catalogue.py:138)\u001b[0m\n",
            "\u001b[1;33mDeprecationWarning: SelectableGroups dict interface is deprecated. Use select.\u001b[0m \u001b[1;30m(raised from /usr/local/lib/python3.7/dist-packages/catalogue.py:138)\u001b[0m\n",
            "\u001b[1;33mDeprecationWarning: SelectableGroups dict interface is deprecated. Use select.\u001b[0m \u001b[1;30m(raised from /usr/local/lib/python3.7/dist-packages/catalogue.py:138)\u001b[0m\n",
            "\u001b[1;33mDeprecationWarning: SelectableGroups dict interface is deprecated. Use select.\u001b[0m \u001b[1;30m(raised from /usr/local/lib/python3.7/dist-packages/catalogue.py:138)\u001b[0m\n",
            "\u001b[1;33mDeprecationWarning: SelectableGroups dict interface is deprecated. Use select.\u001b[0m \u001b[1;30m(raised from /usr/local/lib/python3.7/dist-packages/catalogue.py:138)\u001b[0m\n",
            "\u001b[1;33mDeprecationWarning: SelectableGroups dict interface is deprecated. Use select.\u001b[0m \u001b[1;30m(raised from /usr/local/lib/python3.7/dist-packages/catalogue.py:138)\u001b[0m\n",
            "\u001b[1;33mDeprecationWarning: SelectableGroups dict interface is deprecated. Use select.\u001b[0m \u001b[1;30m(raised from /usr/local/lib/python3.7/dist-packages/catalogue.py:138)\u001b[0m\n",
            "\u001b[1;33mDeprecationWarning: SelectableGroups dict interface is deprecated. Use select.\u001b[0m \u001b[1;30m(raised from /usr/local/lib/python3.7/dist-packages/catalogue.py:138)\u001b[0m\n",
            "\u001b[1;33mDeprecationWarning: SelectableGroups dict interface is deprecated. Use select.\u001b[0m \u001b[1;30m(raised from /usr/local/lib/python3.7/dist-packages/catalogue.py:138)\u001b[0m\n",
            "\u001b[1;33mDeprecationWarning: SelectableGroups dict interface is deprecated. Use select.\u001b[0m \u001b[1;30m(raised from /usr/local/lib/python3.7/dist-packages/catalogue.py:138)\u001b[0m\n",
            "\u001b[1;33mDeprecationWarning: SelectableGroups dict interface is deprecated. Use select.\u001b[0m \u001b[1;30m(raised from /usr/local/lib/python3.7/dist-packages/catalogue.py:138)\u001b[0m\n",
            "\u001b[1;33mDeprecationWarning: SelectableGroups dict interface is deprecated. Use select.\u001b[0m \u001b[1;30m(raised from /usr/local/lib/python3.7/dist-packages/catalogue.py:138)\u001b[0m\n",
            "\u001b[1;33mDeprecationWarning: SelectableGroups dict interface is deprecated. Use select.\u001b[0m \u001b[1;30m(raised from /usr/local/lib/python3.7/dist-packages/catalogue.py:138)\u001b[0m\n",
            "\u001b[1;33mDeprecationWarning: SelectableGroups dict interface is deprecated. Use select.\u001b[0m \u001b[1;30m(raised from /usr/local/lib/python3.7/dist-packages/catalogue.py:138)\u001b[0m\n",
            "\u001b[1;33mDeprecationWarning: SelectableGroups dict interface is deprecated. Use select.\u001b[0m \u001b[1;30m(raised from /usr/local/lib/python3.7/dist-packages/catalogue.py:138)\u001b[0m\n",
            "\u001b[1;33mDeprecationWarning: SelectableGroups dict interface is deprecated. Use select.\u001b[0m \u001b[1;30m(raised from /usr/local/lib/python3.7/dist-packages/catalogue.py:138)\u001b[0m\n",
            "\u001b[1;33mDeprecationWarning: SelectableGroups dict interface is deprecated. Use select.\u001b[0m \u001b[1;30m(raised from /usr/local/lib/python3.7/dist-packages/catalogue.py:138)\u001b[0m\n",
            "\u001b[1;33mDeprecationWarning: SelectableGroups dict interface is deprecated. Use select.\u001b[0m \u001b[1;30m(raised from /usr/local/lib/python3.7/dist-packages/catalogue.py:138)\u001b[0m\n",
            "\u001b[1;33mDeprecationWarning: SelectableGroups dict interface is deprecated. Use select.\u001b[0m \u001b[1;30m(raised from /usr/local/lib/python3.7/dist-packages/catalogue.py:138)\u001b[0m\n",
            "\u001b[1;33mDeprecationWarning: SelectableGroups dict interface is deprecated. Use select.\u001b[0m \u001b[1;30m(raised from /usr/local/lib/python3.7/dist-packages/catalogue.py:138)\u001b[0m\n",
            "\u001b[1;33mDeprecationWarning: SelectableGroups dict interface is deprecated. Use select.\u001b[0m \u001b[1;30m(raised from /usr/local/lib/python3.7/dist-packages/catalogue.py:138)\u001b[0m\n",
            "\u001b[1;33mDeprecationWarning: SelectableGroups dict interface is deprecated. Use select.\u001b[0m \u001b[1;30m(raised from /usr/local/lib/python3.7/dist-packages/catalogue.py:138)\u001b[0m\n",
            "\u001b[1;33mDeprecationWarning: SelectableGroups dict interface is deprecated. Use select.\u001b[0m \u001b[1;30m(raised from /usr/local/lib/python3.7/dist-packages/catalogue.py:138)\u001b[0m\n",
            "\u001b[1;33mDeprecationWarning: SelectableGroups dict interface is deprecated. Use select.\u001b[0m \u001b[1;30m(raised from /usr/local/lib/python3.7/dist-packages/catalogue.py:138)\u001b[0m\n",
            "\u001b[1;33mDeprecationWarning: SelectableGroups dict interface is deprecated. Use select.\u001b[0m \u001b[1;30m(raised from /usr/local/lib/python3.7/dist-packages/catalogue.py:138)\u001b[0m\n",
            "\u001b[1;33mDeprecationWarning: SelectableGroups dict interface is deprecated. Use select.\u001b[0m \u001b[1;30m(raised from /usr/local/lib/python3.7/dist-packages/catalogue.py:138)\u001b[0m\n",
            "\u001b[1;33mDeprecationWarning: SelectableGroups dict interface is deprecated. Use select.\u001b[0m \u001b[1;30m(raised from /usr/local/lib/python3.7/dist-packages/catalogue.py:138)\u001b[0m\n",
            "\u001b[1;33mDeprecationWarning: SelectableGroups dict interface is deprecated. Use select.\u001b[0m \u001b[1;30m(raised from /usr/local/lib/python3.7/dist-packages/catalogue.py:138)\u001b[0m\n",
            "\u001b[1;33mDeprecationWarning: SelectableGroups dict interface is deprecated. Use select.\u001b[0m \u001b[1;30m(raised from /usr/local/lib/python3.7/dist-packages/catalogue.py:138)\u001b[0m\n",
            "\u001b[1;33mDeprecationWarning: SelectableGroups dict interface is deprecated. Use select.\u001b[0m \u001b[1;30m(raised from /usr/local/lib/python3.7/dist-packages/catalogue.py:138)\u001b[0m\n",
            "\u001b[1;33mDeprecationWarning: SelectableGroups dict interface is deprecated. Use select.\u001b[0m \u001b[1;30m(raised from /usr/local/lib/python3.7/dist-packages/catalogue.py:138)\u001b[0m\n",
            "\u001b[1;33mDeprecationWarning: SelectableGroups dict interface is deprecated. Use select.\u001b[0m \u001b[1;30m(raised from /usr/local/lib/python3.7/dist-packages/catalogue.py:138)\u001b[0m\n",
            "\u001b[1;33mDeprecationWarning: SelectableGroups dict interface is deprecated. Use select.\u001b[0m \u001b[1;30m(raised from /usr/local/lib/python3.7/dist-packages/catalogue.py:138)\u001b[0m\n"
          ]
        },
        {
          "output_type": "stream",
          "name": "stdout",
          "text": [
            "\r                                                                                                    \r\u001b[32m⠙\u001b[0m Working... \u001b[32m━━━━━━━━━━━━━━━━━━━━━━━━━━━━━━━━━━━━━━━━\u001b[0m\u001b[32m╸\u001b[0m\u001b[2m\u001b[32m\u001b[0m \u001b[36m0:00:00\u001b[0m estimating... "
          ]
        },
        {
          "output_type": "stream",
          "name": "stderr",
          "text": [
            "\u001b[1;33mDeprecationWarning: SelectableGroups dict interface is deprecated. Use select.\u001b[0m \u001b[1;30m(raised from /usr/local/lib/python3.7/dist-packages/catalogue.py:138)\u001b[0m\n",
            "\u001b[1;33mDeprecationWarning: SelectableGroups dict interface is deprecated. Use select.\u001b[0m \u001b[1;30m(raised from /usr/local/lib/python3.7/dist-packages/catalogue.py:138)\u001b[0m\n",
            "\u001b[1;33mDeprecationWarning: SelectableGroups dict interface is deprecated. Use select.\u001b[0m \u001b[1;30m(raised from /usr/local/lib/python3.7/dist-packages/catalogue.py:138)\u001b[0m\n",
            "\u001b[1;33mDeprecationWarning: SelectableGroups dict interface is deprecated. Use select.\u001b[0m \u001b[1;30m(raised from /usr/local/lib/python3.7/dist-packages/catalogue.py:138)\u001b[0m\n",
            "\u001b[1;33mDeprecationWarning: SelectableGroups dict interface is deprecated. Use select.\u001b[0m \u001b[1;30m(raised from /usr/local/lib/python3.7/dist-packages/catalogue.py:138)\u001b[0m\n",
            "\u001b[1;33mDeprecationWarning: SelectableGroups dict interface is deprecated. Use select.\u001b[0m \u001b[1;30m(raised from /usr/local/lib/python3.7/dist-packages/catalogue.py:138)\u001b[0m\n",
            "\u001b[1;33mDeprecationWarning: SelectableGroups dict interface is deprecated. Use select.\u001b[0m \u001b[1;30m(raised from /usr/local/lib/python3.7/dist-packages/catalogue.py:138)\u001b[0m\n",
            "\u001b[1;33mDeprecationWarning: SelectableGroups dict interface is deprecated. Use select.\u001b[0m \u001b[1;30m(raised from /usr/local/lib/python3.7/dist-packages/catalogue.py:138)\u001b[0m\n",
            "\u001b[1;33mDeprecationWarning: SelectableGroups dict interface is deprecated. Use select.\u001b[0m \u001b[1;30m(raised from /usr/local/lib/python3.7/dist-packages/catalogue.py:138)\u001b[0m\n",
            "\u001b[1;33mDeprecationWarning: SelectableGroups dict interface is deprecated. Use select.\u001b[0m \u001b[1;30m(raised from /usr/local/lib/python3.7/dist-packages/catalogue.py:138)\u001b[0m\n",
            "\u001b[1;33mDeprecationWarning: SelectableGroups dict interface is deprecated. Use select.\u001b[0m \u001b[1;30m(raised from /usr/local/lib/python3.7/dist-packages/catalogue.py:138)\u001b[0m\n",
            "\u001b[1;33mDeprecationWarning: SelectableGroups dict interface is deprecated. Use select.\u001b[0m \u001b[1;30m(raised from /usr/local/lib/python3.7/dist-packages/catalogue.py:138)\u001b[0m\n",
            "\u001b[1;33mDeprecationWarning: SelectableGroups dict interface is deprecated. Use select.\u001b[0m \u001b[1;30m(raised from /usr/local/lib/python3.7/dist-packages/catalogue.py:138)\u001b[0m\n",
            "\u001b[1;33mDeprecationWarning: SelectableGroups dict interface is deprecated. Use select.\u001b[0m \u001b[1;30m(raised from /usr/local/lib/python3.7/dist-packages/catalogue.py:138)\u001b[0m\n",
            "\u001b[1;33mDeprecationWarning: SelectableGroups dict interface is deprecated. Use select.\u001b[0m \u001b[1;30m(raised from /usr/local/lib/python3.7/dist-packages/catalogue.py:138)\u001b[0m\n",
            "\u001b[1;33mDeprecationWarning: SelectableGroups dict interface is deprecated. Use select.\u001b[0m \u001b[1;30m(raised from /usr/local/lib/python3.7/dist-packages/catalogue.py:138)\u001b[0m\n",
            "\u001b[1;33mDeprecationWarning: SelectableGroups dict interface is deprecated. Use select.\u001b[0m \u001b[1;30m(raised from /usr/local/lib/python3.7/dist-packages/catalogue.py:138)\u001b[0m\n",
            "\u001b[1;33mDeprecationWarning: SelectableGroups dict interface is deprecated. Use select.\u001b[0m \u001b[1;30m(raised from /usr/local/lib/python3.7/dist-packages/catalogue.py:138)\u001b[0m\n",
            "\u001b[1;33mDeprecationWarning: SelectableGroups dict interface is deprecated. Use select.\u001b[0m \u001b[1;30m(raised from /usr/local/lib/python3.7/dist-packages/catalogue.py:138)\u001b[0m\n",
            "\u001b[1;33mDeprecationWarning: SelectableGroups dict interface is deprecated. Use select.\u001b[0m \u001b[1;30m(raised from /usr/local/lib/python3.7/dist-packages/catalogue.py:138)\u001b[0m\n",
            "\u001b[1;33mDeprecationWarning: SelectableGroups dict interface is deprecated. Use select.\u001b[0m \u001b[1;30m(raised from /usr/local/lib/python3.7/dist-packages/catalogue.py:138)\u001b[0m\n",
            "\u001b[1;33mDeprecationWarning: SelectableGroups dict interface is deprecated. Use select.\u001b[0m \u001b[1;30m(raised from /usr/local/lib/python3.7/dist-packages/catalogue.py:138)\u001b[0m\n",
            "\u001b[1;33mDeprecationWarning: SelectableGroups dict interface is deprecated. Use select.\u001b[0m \u001b[1;30m(raised from /usr/local/lib/python3.7/dist-packages/catalogue.py:138)\u001b[0m\n",
            "\u001b[1;33mDeprecationWarning: SelectableGroups dict interface is deprecated. Use select.\u001b[0m \u001b[1;30m(raised from /usr/local/lib/python3.7/dist-packages/catalogue.py:138)\u001b[0m\n",
            "\u001b[1;33mDeprecationWarning: SelectableGroups dict interface is deprecated. Use select.\u001b[0m \u001b[1;30m(raised from /usr/local/lib/python3.7/dist-packages/catalogue.py:138)\u001b[0m\n",
            "\u001b[1;33mDeprecationWarning: SelectableGroups dict interface is deprecated. Use select.\u001b[0m \u001b[1;30m(raised from /usr/local/lib/python3.7/dist-packages/catalogue.py:138)\u001b[0m\n",
            "\u001b[1;33mDeprecationWarning: SelectableGroups dict interface is deprecated. Use select.\u001b[0m \u001b[1;30m(raised from /usr/local/lib/python3.7/dist-packages/catalogue.py:138)\u001b[0m\n",
            "\u001b[1;33mDeprecationWarning: SelectableGroups dict interface is deprecated. Use select.\u001b[0m \u001b[1;30m(raised from /usr/local/lib/python3.7/dist-packages/catalogue.py:138)\u001b[0m\n",
            "\u001b[1;33mDeprecationWarning: SelectableGroups dict interface is deprecated. Use select.\u001b[0m \u001b[1;30m(raised from /usr/local/lib/python3.7/dist-packages/catalogue.py:138)\u001b[0m\n"
          ]
        },
        {
          "output_type": "stream",
          "name": "stdout",
          "text": [
            "\r                                                                                                    \r\u001b[32m⠹\u001b[0m Working... \u001b[32m━━━━━━━━━━━━━━━━━━━━━━━━━━━━━━━━━━━━━━━━\u001b[0m\u001b[32m╸\u001b[0m\u001b[2m\u001b[32m\u001b[0m \u001b[36m0:00:00\u001b[0m estimating... "
          ]
        },
        {
          "output_type": "stream",
          "name": "stderr",
          "text": [
            "\u001b[1;33mDeprecationWarning: SelectableGroups dict interface is deprecated. Use select.\u001b[0m \u001b[1;30m(raised from /usr/local/lib/python3.7/dist-packages/catalogue.py:138)\u001b[0m\n",
            "\u001b[1;33mDeprecationWarning: SelectableGroups dict interface is deprecated. Use select.\u001b[0m \u001b[1;30m(raised from /usr/local/lib/python3.7/dist-packages/catalogue.py:138)\u001b[0m\n",
            "\u001b[1;33mDeprecationWarning: SelectableGroups dict interface is deprecated. Use select.\u001b[0m \u001b[1;30m(raised from /usr/local/lib/python3.7/dist-packages/catalogue.py:138)\u001b[0m\n"
          ]
        },
        {
          "output_type": "stream",
          "name": "stdout",
          "text": [
            "\r                                                                                                    \r\u001b[32m⠸\u001b[0m Working... \u001b[32m━━━━━━━━━━━━━━━━━━━━━━━━━━━━━━━━━━━━━━━━\u001b[0m\u001b[32m╸\u001b[0m\u001b[2m\u001b[32m\u001b[0m \u001b[36m0:00:00\u001b[0m estimating... "
          ]
        },
        {
          "output_type": "stream",
          "name": "stderr",
          "text": [
            "\u001b[1;33mDeprecationWarning: SelectableGroups dict interface is deprecated. Use select.\u001b[0m \u001b[1;30m(raised from /usr/local/lib/python3.7/dist-packages/catalogue.py:138)\u001b[0m\n",
            "\u001b[1;33mDeprecationWarning: SelectableGroups dict interface is deprecated. Use select.\u001b[0m \u001b[1;30m(raised from /usr/local/lib/python3.7/dist-packages/catalogue.py:138)\u001b[0m\n",
            "\u001b[1;33mDeprecationWarning: SelectableGroups dict interface is deprecated. Use select.\u001b[0m \u001b[1;30m(raised from /usr/local/lib/python3.7/dist-packages/catalogue.py:138)\u001b[0m\n",
            "\u001b[1;33mDeprecationWarning: SelectableGroups dict interface is deprecated. Use select.\u001b[0m \u001b[1;30m(raised from /usr/local/lib/python3.7/dist-packages/catalogue.py:138)\u001b[0m\n",
            "\u001b[1;33mDeprecationWarning: SelectableGroups dict interface is deprecated. Use select.\u001b[0m \u001b[1;30m(raised from /usr/local/lib/python3.7/dist-packages/catalogue.py:138)\u001b[0m\n",
            "\u001b[1;33mDeprecationWarning: SelectableGroups dict interface is deprecated. Use select.\u001b[0m \u001b[1;30m(raised from /usr/local/lib/python3.7/dist-packages/catalogue.py:138)\u001b[0m\n",
            "\u001b[1;33mDeprecationWarning: SelectableGroups dict interface is deprecated. Use select.\u001b[0m \u001b[1;30m(raised from /usr/local/lib/python3.7/dist-packages/catalogue.py:138)\u001b[0m\n",
            "\u001b[1;33mDeprecationWarning: SelectableGroups dict interface is deprecated. Use select.\u001b[0m \u001b[1;30m(raised from /usr/local/lib/python3.7/dist-packages/catalogue.py:138)\u001b[0m\n",
            "\u001b[1;33mDeprecationWarning: SelectableGroups dict interface is deprecated. Use select.\u001b[0m \u001b[1;30m(raised from /usr/local/lib/python3.7/dist-packages/catalogue.py:138)\u001b[0m\n",
            "\u001b[1;33mDeprecationWarning: SelectableGroups dict interface is deprecated. Use select.\u001b[0m \u001b[1;30m(raised from /usr/local/lib/python3.7/dist-packages/catalogue.py:138)\u001b[0m\n",
            "\u001b[1;33mDeprecationWarning: SelectableGroups dict interface is deprecated. Use select.\u001b[0m \u001b[1;30m(raised from /usr/local/lib/python3.7/dist-packages/catalogue.py:138)\u001b[0m\n",
            "\u001b[1;33mDeprecationWarning: SelectableGroups dict interface is deprecated. Use select.\u001b[0m \u001b[1;30m(raised from /usr/local/lib/python3.7/dist-packages/catalogue.py:138)\u001b[0m\n",
            "\u001b[1;33mDeprecationWarning: SelectableGroups dict interface is deprecated. Use select.\u001b[0m \u001b[1;30m(raised from /usr/local/lib/python3.7/dist-packages/catalogue.py:138)\u001b[0m\n",
            "\u001b[1;33mDeprecationWarning: SelectableGroups dict interface is deprecated. Use select.\u001b[0m \u001b[1;30m(raised from /usr/local/lib/python3.7/dist-packages/catalogue.py:138)\u001b[0m\n",
            "\u001b[1;33mDeprecationWarning: SelectableGroups dict interface is deprecated. Use select.\u001b[0m \u001b[1;30m(raised from /usr/local/lib/python3.7/dist-packages/catalogue.py:138)\u001b[0m\n",
            "\u001b[1;33mDeprecationWarning: SelectableGroups dict interface is deprecated. Use select.\u001b[0m \u001b[1;30m(raised from /usr/local/lib/python3.7/dist-packages/catalogue.py:138)\u001b[0m\n",
            "\u001b[1;33mDeprecationWarning: SelectableGroups dict interface is deprecated. Use select.\u001b[0m \u001b[1;30m(raised from /usr/local/lib/python3.7/dist-packages/catalogue.py:138)\u001b[0m\n",
            "\u001b[1;33mDeprecationWarning: SelectableGroups dict interface is deprecated. Use select.\u001b[0m \u001b[1;30m(raised from /usr/local/lib/python3.7/dist-packages/catalogue.py:138)\u001b[0m\n",
            "\u001b[1;33mDeprecationWarning: SelectableGroups dict interface is deprecated. Use select.\u001b[0m \u001b[1;30m(raised from /usr/local/lib/python3.7/dist-packages/catalogue.py:138)\u001b[0m\n",
            "\u001b[1;33mDeprecationWarning: SelectableGroups dict interface is deprecated. Use select.\u001b[0m \u001b[1;30m(raised from /usr/local/lib/python3.7/dist-packages/catalogue.py:138)\u001b[0m\n",
            "\u001b[1;33mDeprecationWarning: SelectableGroups dict interface is deprecated. Use select.\u001b[0m \u001b[1;30m(raised from /usr/local/lib/python3.7/dist-packages/catalogue.py:138)\u001b[0m\n",
            "\u001b[1;33mDeprecationWarning: SelectableGroups dict interface is deprecated. Use select.\u001b[0m \u001b[1;30m(raised from /usr/local/lib/python3.7/dist-packages/catalogue.py:138)\u001b[0m\n",
            "\u001b[1;33mDeprecationWarning: SelectableGroups dict interface is deprecated. Use select.\u001b[0m \u001b[1;30m(raised from /usr/local/lib/python3.7/dist-packages/catalogue.py:138)\u001b[0m\n",
            "\u001b[1;33mDeprecationWarning: SelectableGroups dict interface is deprecated. Use select.\u001b[0m \u001b[1;30m(raised from /usr/local/lib/python3.7/dist-packages/catalogue.py:138)\u001b[0m\n",
            "\u001b[1;33mDeprecationWarning: SelectableGroups dict interface is deprecated. Use select.\u001b[0m \u001b[1;30m(raised from /usr/local/lib/python3.7/dist-packages/catalogue.py:138)\u001b[0m\n",
            "\u001b[1;33mDeprecationWarning: SelectableGroups dict interface is deprecated. Use select.\u001b[0m \u001b[1;30m(raised from /usr/local/lib/python3.7/dist-packages/catalogue.py:138)\u001b[0m\n",
            "\u001b[1;33mDeprecationWarning: SelectableGroups dict interface is deprecated. Use select.\u001b[0m \u001b[1;30m(raised from /usr/local/lib/python3.7/dist-packages/catalogue.py:138)\u001b[0m\n",
            "\u001b[1;33mDeprecationWarning: SelectableGroups dict interface is deprecated. Use select.\u001b[0m \u001b[1;30m(raised from /usr/local/lib/python3.7/dist-packages/catalogue.py:138)\u001b[0m\n",
            "\u001b[1;33mDeprecationWarning: SelectableGroups dict interface is deprecated. Use select.\u001b[0m \u001b[1;30m(raised from /usr/local/lib/python3.7/dist-packages/catalogue.py:138)\u001b[0m\n",
            "\u001b[1;33mDeprecationWarning: SelectableGroups dict interface is deprecated. Use select.\u001b[0m \u001b[1;30m(raised from /usr/local/lib/python3.7/dist-packages/catalogue.py:138)\u001b[0m\n",
            "\u001b[1;33mDeprecationWarning: SelectableGroups dict interface is deprecated. Use select.\u001b[0m \u001b[1;30m(raised from /usr/local/lib/python3.7/dist-packages/catalogue.py:138)\u001b[0m\n",
            "\u001b[1;33mDeprecationWarning: SelectableGroups dict interface is deprecated. Use select.\u001b[0m \u001b[1;30m(raised from /usr/local/lib/python3.7/dist-packages/catalogue.py:138)\u001b[0m\n",
            "\u001b[1;33mDeprecationWarning: SelectableGroups dict interface is deprecated. Use select.\u001b[0m \u001b[1;30m(raised from /usr/local/lib/python3.7/dist-packages/catalogue.py:138)\u001b[0m\n"
          ]
        },
        {
          "output_type": "stream",
          "name": "stdout",
          "text": [
            "\u001b[32m⠦\u001b[0m       DONE \u001b[33m━━━━━━━━━━━━━━━━━━━━━━━━━━━━━━━━━━━━━━━━\u001b[0m\u001b[33m╸\u001b[0m\u001b[2m\u001b[33m\u001b[0m \u001b[36m0:00:00\u001b[0m 100% ETA: 0 seconds \u001b[K80 steps done in 0 seconds\n",
            "DONE!\n"
          ]
        }
      ],
      "source": [
        "with flow:\n",
        "  indexed_docs = flow.index(\n",
        "      inputs=docs,\n",
        "      request_size=64,\n",
        "      show_progress=True,\n",
        "      return_results=True\n",
        "  )\n",
        "print(\"DONE!\")"
      ]
    },
    {
      "cell_type": "markdown",
      "metadata": {
        "id": "4DHGnTqmD62t"
      },
      "source": [
        "## What did we just do?\n",
        "\n",
        "Indexing our Documents:\n",
        "\n",
        "- Generated *vector embeddings* for each Document, generated by a neural network. These provide a representation of the meaning of each piece of text, instead of it just being a string of characters\n",
        "- Stored the embeddings and metadata of each Document in an on-disk index (`./workspace`) for fast lookup later\n",
        "\n",
        "Let's look a Document after it's been through the indexing Flow. We can see its vector embedding stored as a Numpy ndarray in its `.embedding` attribute:"
      ]
    },
    {
      "cell_type": "code",
      "execution_count": 23,
      "metadata": {
        "id": "WiLQ2XoQD62u",
        "colab": {
          "base_uri": "https://localhost:8080/"
        },
        "outputId": "b378bd41-917e-4309-94a3-2a1668da9834"
      },
      "outputs": [
        {
          "output_type": "stream",
          "name": "stdout",
          "text": [
            "dense {\n",
            "  buffer: \"5\\301!=Q0\\347=U\\337\\275\\2750H\\363\\274\\306\\366\\033>\\014\\353\\301<\\233\\276\\316\\274p+\\275=&\\221\\265<\\375\\376\\t@\\250rV\\276\\0069\\013\\275\\225\\003\\207=\\234l\\013\\276\\216Xk\\274\\355\\314\\354\\274\\323\\201\\335\\275[\\320t?\\212B1\\275\\321\\265\\355\\275P\\263\\331\\273\\2069)\\275\\350\\350?;\\035\\\"\\224\\275\\216=\\265=\\216\\325\\346\\274\\205\\t7=(\\201\\352:Z\\373\\017=\\005\\253C=*\\270\\252\\275\\301\\247\\004>`\\007\\334\\275\\332_z=vU4>\\017\\356_\\275&\\'\\222=\\325\\325(=\\272\\'r\\275m\\315\\002=\\232\\320\\214\\274\\220\\366\\341=9\\266\\241\\275\\330\\251b\\275\\273*\\200=\\313\\200\\253=f\\021I\\275\\310\\377H\\274Eb\\222\\274F\\2377\\275\\223W\\211\\275\\200\\177\\032=\\007A\\313\\2752\\277\\260<\\305\\220t=\\307\\320\\r\\274\\371(\\350<4\\t\\036\\276\\031\\300\\327=\\035\\251R\\275/,L=\\251n2\\275\\335m\\364\\275\\273R_>\\331\\343:=\\264\\002\\347\\275\\013\\226\\270\\2752Dn<\\026h\\227\\274\\351\\005\\000>\\370h\\361<\\315\\247\\204\\274\\014\\030+>#\\341\\201<\\303\\344~=:c\\306=\\315\\211\\201<\\241O\\250\\275\\350k\\316\\275:\\306A>\\320=\\263={\\341<>\\2548\\024\\276l\\025m\\274j\\205\\000\\275N)8\\276\\374\\262\\232\\276OL\\236\\2744H\\307=X<]=\\333\\362)\\276BK\\007=T\\262\\306\\2756\\362\\200=\\357\\032\\002>@]O;\\224\\207\\025<\\271_\\372\\275L\\357m=|\\267e\\275\\200(\\003;\\370\\255\\016=v\\333\\235\\275\\274\\225%\\274\\224\\305Z>\\330L\\024\\277E\\266\\371=[\\354z=\\350n\\353=\\351\\024\\030\\275\\36314>\\226?W\\276,GX<\\354h,\\275)\\345\\325\\274\\036\\2357=\\206c\\262\\275\\260\\320o=\\031\\322\\327\\275\\314?Z<\\212\\021\\352<\\223\\034\\036\\276\\212\\354\\307\\275\\256\\264\\217\\275\\246\\355\\370;\\210\\266\\234:\\364\\245s\\275\\261\\025\\217\\275\\274\\335\\275=3\\207\\000\\275N\\0205=d\\347\\201\\275Z\\226\\033\\275IB\\021\\276\\232\\000\\374<\\326\\245?<\\321\\224\\320\\274O=\\032=\\240%\\0019~\\355\\020<a\\367\\232\\277\\355 \\030<\\026\\212\\346=\\'\\254\\315<\\013\\332F=\\220\\345\\321\\275|j\\375\\274H\\\\\\241<\\334\\\\=>\\364\\356\\324<\\030\\013\\363\\274\\300;?:\\352Oa=\\234\\344\\223\\275\\364\\003\\316\\275\\234\\342q\\273\\2764\\\\\\274=H+=>\\325\\217\\275[\\322\\001\\276\\200\\323s\\275\\212U\\315=,\\333\\033\\275.\\004?\\274\\270\\\\-\\275w6\\336\\275`s\\200=\\3263\\016\\275\\251\\3554>\\0179\\316<\\302\\333\\266;\\335\\256\\217\\274\\212>\\367<\\267\\266\\332\\275\\017\\253;\\276h\\013\\220=\\3620\\257\\275\\024\\361\\222\\275\\236\\036\\033=\\027O\\221<g\\201J=\\332=\\245\\275\\214\\254\\273\\275P\\343f\\275L\\377\\006\\276h\\227\\250;\\220t\\220\\275Z\\023\\325\\275X\\010O=\\350\\263\\232\\275\\257z\\312\\275\\214\\276\\005\\275FT\\360\\275\\177m\\363<\\tC\\261\\274t\\177\\371=S\\313q<\\037\\r\\277<^\\376\\276\\275\\323\\202K=\\237\\322\\272\\273B\\326\\243\\274o@\\363\\274\\002d\\350<\\004\\232/>\\207_\\332\\274\\363J\\311=2\\335B\\275~\\024\\331\\275R\\300\\246\\274s\\025\\335\\275\\364U\\266\\275\\344\\267\\207\\2759\\324\\212\\276T\\0053=\\330A\\375=,\\216\\324\\274.\\214\\230\\275\\366\\203\\226\\275;\\016e\\275\\371\\274\\204=\\1776s\\274B\\315\\344\\275\\006s\\373;\\246n^\\274\\335a;\\275\\211M\\361\\274\\002\\373i>\\244B\\231;\\247\\2148<JA\\017\\275\\245\\261\\010>\\344\\352\\025=\\343\\343\\307=y\\374S\\275\\247\\377\\277\\275\\373\\215\\344\\275\\005\\307u\\275\\212\\255\\006\\276\\226\\017e=\\262\\260\\013=\\026\\244\\327=\\264\\367\\325\\273^HS=U\\270\\313=\\310Y\\374\\275\\347\\024\\031\\276fV\\213\\275\\305\\275\\333\\275\\311\\327\\020=\\301\\336P\\275\\364\\305\\202\\275\\377\\007\\360\\274\\250j\\\"\\275P6\\005<\\351-\\213>cV\\010>\\206Z\\357=\\336\\203?\\274\\343mq=2m\\007>rg4>\\262\\024@<:\\005\\251=\\004t\\001=Ouh\\276\\276TL\\275\\037i@\\274.\\342\\206>\\275\\347J=e\\277\\377<lK\\217\\2751\\010\\007\\276\\003\\333]\\276\\216\\022\\241\\275\\360e\\340<Cv\\256=Rk\\340=\\324\\375Y=sxo>\\276\\330G>&9\\014=m\\246\\302\\275\\037\\244\\035\\275\\2277\\267<%\\201I\\276\\312\\216\\t>\\200\\321\\326\\275\\255\\314\\364=&s \\274~\\267\\237\\276\\354\\274y\\275;O+\\274\\334\\201e\\276\\320\\366\\316\\275\\260tz=2\\036\\031=(\\222\\237\\274\\207\\026\\265\\274\\353\\t\\212=\"\n",
            "  shape: 300\n",
            "  dtype: \"<f4\"\n",
            "}\n",
            "cls_name: \"numpy\"\n",
            "\n"
          ]
        }
      ],
      "source": [
        "print(indexed_docs[0].data.docs[0].embedding) # We dig deep because there's a lot of additional metadata we don't care about right now"
      ]
    },
    {
      "cell_type": "markdown",
      "metadata": {
        "id": "06Ptw8_kBgxc"
      },
      "source": [
        "## Search data with Flow"
      ]
    },
    {
      "cell_type": "markdown",
      "metadata": {
        "id": "QSFghiv0D62u"
      },
      "source": [
        "### Create query Document\n",
        "\n",
        "A Document is the fundamental thing that Jina works with. So anything we pass or out needs to be a Document"
      ]
    },
    {
      "cell_type": "code",
      "execution_count": 24,
      "metadata": {
        "id": "jtcvp5bi9Nbt"
      },
      "outputs": [],
      "source": [
        "search_term = \"child\"\n",
        "query_doc = Document(text=search_term)"
      ]
    },
    {
      "cell_type": "markdown",
      "metadata": {
        "id": "dpTppB7iD62u"
      },
      "source": [
        "### Send query Document to Flow\n",
        "\n",
        "This Flow will:\n",
        "\n",
        "- Generate a vector embedding for our query Document based on its text\n",
        "- Compare that embedding with the 50 embeddings (one for each meme) we stored in our index earlier\n",
        "- Return the closest matches based on Document (i.e. text) similarity"
      ]
    },
    {
      "cell_type": "code",
      "execution_count": 25,
      "metadata": {
        "id": "MB9RxYsR8saM",
        "colab": {
          "base_uri": "https://localhost:8080/"
        },
        "outputId": "541a67bc-d761-4974-8dd7-50201d711589"
      },
      "outputs": [
        {
          "output_type": "stream",
          "name": "stdout",
          "text": [
            "\u001b[32m⠴\u001b[0m 2/3 waiting \u001b[33mmeme_text_encoder\u001b[0m to be ready..."
          ]
        },
        {
          "output_type": "stream",
          "name": "stderr",
          "text": [
            "\u001b[1;33mDeprecationWarning: SelectableGroups dict interface is deprecated. Use select.\u001b[0m \u001b[1;30m(raised from /usr/local/lib/python3.7/dist-packages/catalogue.py:138)\u001b[0m\n",
            "\u001b[1;33mDeprecationWarning: SelectableGroups dict interface is deprecated. Use select.\u001b[0m \u001b[1;30m(raised from /usr/local/lib/python3.7/dist-packages/catalogue.py:138)\u001b[0m\n",
            "\u001b[1;33mDeprecationWarning: SelectableGroups dict interface is deprecated. Use select.\u001b[0m \u001b[1;30m(raised from /usr/local/lib/python3.7/dist-packages/catalogue.py:126)\u001b[0m\n",
            "\u001b[1;33mDeprecationWarning: SelectableGroups dict interface is deprecated. Use select.\u001b[0m \u001b[1;30m(raised from /usr/local/lib/python3.7/dist-packages/catalogue.py:138)\u001b[0m\n"
          ]
        },
        {
          "output_type": "stream",
          "name": "stdout",
          "text": [
            "           Flow@345[I]:\u001b[32m🎉 Flow is ready to use!\u001b[0m\n",
            "\t🔗 Protocol: \t\t\u001b[1mGRPC\u001b[0m\n",
            "\t🏠 Local access:\t\u001b[4m\u001b[36m0.0.0.0:50147\u001b[0m\n",
            "\t🔒 Private network:\t\u001b[4m\u001b[36m172.28.0.2:50147\u001b[0m\n",
            "\t🌐 Public address:\t\u001b[4m\u001b[36m34.90.178.248:50147\u001b[0m\u001b[0m\n"
          ]
        },
        {
          "output_type": "stream",
          "name": "stderr",
          "text": [
            "\u001b[1;33mDeprecationWarning: \n",
            "            The syntax of traversal_path is changed to comma-separated string, '\n",
            "            that means your need to change ('r',) into `r`. '\n",
            "            The old list of string syntax will be deprecated soon\n",
            "            \u001b[0m \u001b[1;30m(raised from /usr/local/lib/python3.7/dist-packages/docarray/array/mixins/traverse.py:28)\u001b[0m\n",
            "\u001b[1;33mDeprecationWarning: SelectableGroups dict interface is deprecated. Use select.\u001b[0m \u001b[1;30m(raised from /usr/local/lib/python3.7/dist-packages/catalogue.py:138)\u001b[0m\n",
            "\u001b[1;33mDeprecationWarning: SelectableGroups dict interface is deprecated. Use select.\u001b[0m \u001b[1;30m(raised from /usr/local/lib/python3.7/dist-packages/catalogue.py:138)\u001b[0m\n"
          ]
        },
        {
          "output_type": "stream",
          "name": "stdout",
          "text": [
            "DONE!\n"
          ]
        }
      ],
      "source": [
        "with flow:\n",
        "  response = flow.search(inputs=query_doc, return_results=True)\n",
        "print(\"DONE!\")"
      ]
    },
    {
      "cell_type": "markdown",
      "metadata": {
        "id": "880MVq9-D62u"
      },
      "source": [
        "### Extract matches\n",
        "\n",
        "A Jina response contains a lot of extra data. We just want the DocumentArray with matching Documents"
      ]
    },
    {
      "cell_type": "code",
      "execution_count": 26,
      "metadata": {
        "id": "lE-fipho9eTj"
      },
      "outputs": [],
      "source": [
        "matches = response[0].docs[0].matches"
      ]
    },
    {
      "cell_type": "code",
      "execution_count": 27,
      "metadata": {
        "id": "XShbU1GPD62v",
        "colab": {
          "base_uri": "https://localhost:8080/",
          "height": 438,
          "referenced_widgets": [
            "6424d61993da4aa18a02bd7a1ee405aa",
            "78a886bc6105420db4f1dca570fc3597",
            "7ec55f9130e14fe88f3e4d3c76f79686",
            "658c1148848545af8bb6758a3fd061de",
            "6571db6af92448c4b6f8d3938b855f3a",
            "472c6abf68d84a0894abdccac5d90b99",
            "9e095ba50c6547e0b544dc97dad6dee7",
            "e5cc2ab5426240b7b96e74717df2d3fa",
            "cc4cb38b71a54389935745e7ecbad08e",
            "92ba7836ecab417999934de5480fad67",
            "e495c1a0a01648bc8d2bdd2759757cbb",
            "941528d2befa403aa331dadeffcfdfc9"
          ]
        },
        "outputId": "1f676386-f309-4beb-a197-0a2fb88c8a0c"
      },
      "outputs": [
        {
          "output_type": "display_data",
          "data": {
            "application/vnd.jupyter.widget-view+json": {
              "model_id": "6424d61993da4aa18a02bd7a1ee405aa",
              "version_minor": 0,
              "version_major": 2
            },
            "text/plain": [
              "HBox(children=(Image(value=b'\\xff\\xd8\\xff\\xe0\\x00\\x10JFIF\\x00\\x01\\x01\\x00\\x00\\x01\\x00\\x01\\x00\\x00\\xff\\xdb\\x00\\…"
            ]
          },
          "metadata": {}
        }
      ],
      "source": [
        "show_images(matches)"
      ]
    },
    {
      "cell_type": "markdown",
      "metadata": {
        "id": "twHoDflQBwju"
      },
      "source": [
        "## Using this IRL\n",
        "\n",
        "How can we take this out of a notebook and build a real-world application with it?"
      ]
    },
    {
      "cell_type": "markdown",
      "metadata": {
        "id": "8BMGGJCZYBQr"
      },
      "source": [
        "### Not use a notebook\n",
        "\n",
        "Notebooks are great for demo's or scientific research. Not so great for real-world applications.\n",
        "\n",
        "### Use a better indexer\n",
        "\n",
        "Jina's **[PQLiteIndexer](https://hub.jina.ai/executor/pn1qofsj)** offers powerful features like pre-filtering based on metadata. In our notebook we just use [SimpleIndexer](https://hub.jina.ai/executor/zb38xlt4) which is nice for demonstrations but lacks PQLite's power.\n",
        "\n",
        "### Use a RESTful API\n",
        "\n",
        "#### In notebook: gRPC\n",
        "\n",
        "```python\n",
        "with flow:\n",
        "    flow.search(Document(text=\"foo\"))\n",
        "```\n",
        "\n",
        "#### In Python: RESTful or gRPC\n",
        "\n",
        "```python\n",
        "with flow:\n",
        "    flow.protocol = \"http\"\n",
        "    flow.port_expose = 12345\n",
        "    flow.block()\n",
        "```\n",
        "\n",
        "### Use Dockerized Executors...\n",
        "\n",
        "This means having to install fewer requirements locally.\n",
        "\n",
        "\n",
        "#### In notebook: `jinahub://foo`\n",
        "\n",
        "```python\n",
        "flow = (\n",
        "    Flow()\n",
        "    .add(...)\n",
        "    .add(\n",
        "        uses=\"jinahub://SimpleIndexer\",\n",
        "    )\n",
        ")\n",
        "```\n",
        "\n",
        "#### In Python: `jinahub+docker://foo`\n",
        "\n",
        "```python\n",
        "flow = (\n",
        "    Flow()\n",
        "    .add(...)\n",
        "    .add(\n",
        "        uses=\"jinahub+docker://SimpleIndexer\",\n",
        "    )\n",
        ")\n",
        "```\n",
        "\n",
        "### ...or wrap everything in Docker\n",
        "\n",
        "See an example [docker-compose.yml](https://github.com/alexcg1/jina-meme-search/blob/main/docker-compose.yml)"
      ]
    }
  ],
  "metadata": {
    "accelerator": "GPU",
    "colab": {
      "collapsed_sections": [],
      "name": "Copy of Meme search with text",
      "provenance": [],
      "include_colab_link": true
    },
    "kernelspec": {
      "display_name": "Python 3",
      "language": "python",
      "name": "python3"
    },
    "language_info": {
      "codemirror_mode": {
        "name": "ipython",
        "version": 3
      },
      "file_extension": ".py",
      "mimetype": "text/x-python",
      "name": "python",
      "nbconvert_exporter": "python",
      "pygments_lexer": "ipython3",
      "version": "3.7.12"
    },
    "toc-showmarkdowntxt": false,
    "widgets": {
      "application/vnd.jupyter.widget-state+json": {
        "a6bf1f3e4f854ad38886bd1b437fa956": {
          "model_module": "@jupyter-widgets/controls",
          "model_name": "HBoxModel",
          "model_module_version": "1.5.0",
          "state": {
            "_view_name": "HBoxView",
            "_dom_classes": [],
            "_model_name": "HBoxModel",
            "_view_module": "@jupyter-widgets/controls",
            "_model_module_version": "1.5.0",
            "_view_count": null,
            "_view_module_version": "1.5.0",
            "box_style": "",
            "layout": "IPY_MODEL_394e2cbb025946fd9939540ab826e100",
            "_model_module": "@jupyter-widgets/controls",
            "children": [
              "IPY_MODEL_aeeb7066929a4aa5a820efd70468f5bd",
              "IPY_MODEL_19110022e91d44abb551105ba1b86c84",
              "IPY_MODEL_a85a174ba336462fbb089894efb9c49a",
              "IPY_MODEL_83b68274c1f64a99a0f3921b57abedfd",
              "IPY_MODEL_450b28caed3d4db6a89fed418cb26b33"
            ]
          }
        },
        "394e2cbb025946fd9939540ab826e100": {
          "model_module": "@jupyter-widgets/base",
          "model_name": "LayoutModel",
          "model_module_version": "1.2.0",
          "state": {
            "_view_name": "LayoutView",
            "grid_template_rows": null,
            "right": null,
            "justify_content": null,
            "_view_module": "@jupyter-widgets/base",
            "overflow": null,
            "_model_module_version": "1.2.0",
            "_view_count": null,
            "flex_flow": null,
            "width": null,
            "min_width": null,
            "border": null,
            "align_items": null,
            "bottom": null,
            "_model_module": "@jupyter-widgets/base",
            "top": null,
            "grid_column": null,
            "overflow_y": null,
            "overflow_x": null,
            "grid_auto_flow": null,
            "grid_area": null,
            "grid_template_columns": null,
            "flex": null,
            "_model_name": "LayoutModel",
            "justify_items": null,
            "grid_row": null,
            "max_height": null,
            "align_content": null,
            "visibility": null,
            "align_self": null,
            "height": null,
            "min_height": null,
            "padding": null,
            "grid_auto_rows": null,
            "grid_gap": null,
            "max_width": null,
            "order": null,
            "_view_module_version": "1.2.0",
            "grid_template_areas": null,
            "object_position": null,
            "object_fit": null,
            "grid_auto_columns": null,
            "margin": null,
            "display": null,
            "left": null
          }
        },
        "aeeb7066929a4aa5a820efd70468f5bd": {
          "model_module": "@jupyter-widgets/controls",
          "model_name": "ImageModel",
          "model_module_version": "1.5.0",
          "state": {
            "_view_name": "ImageView",
            "_dom_classes": [],
            "_model_name": "ImageModel",
            "format": "jpg",
            "_view_module": "@jupyter-widgets/controls",
            "_model_module_version": "1.5.0",
            "_view_count": null,
            "width": "300",
            "_view_module_version": "1.5.0",
            "layout": "IPY_MODEL_d1b0f36d9bed4bc1b49ed07390c14cb4",
            "height": "400",
            "_model_module": "@jupyter-widgets/controls"
          }
        },
        "19110022e91d44abb551105ba1b86c84": {
          "model_module": "@jupyter-widgets/controls",
          "model_name": "ImageModel",
          "model_module_version": "1.5.0",
          "state": {
            "_view_name": "ImageView",
            "_dom_classes": [],
            "_model_name": "ImageModel",
            "format": "jpg",
            "_view_module": "@jupyter-widgets/controls",
            "_model_module_version": "1.5.0",
            "_view_count": null,
            "width": "300",
            "_view_module_version": "1.5.0",
            "layout": "IPY_MODEL_1a7da82c2d7b408a8acfd586499c3827",
            "height": "400",
            "_model_module": "@jupyter-widgets/controls"
          }
        },
        "a85a174ba336462fbb089894efb9c49a": {
          "model_module": "@jupyter-widgets/controls",
          "model_name": "ImageModel",
          "model_module_version": "1.5.0",
          "state": {
            "_view_name": "ImageView",
            "_dom_classes": [],
            "_model_name": "ImageModel",
            "format": "jpg",
            "_view_module": "@jupyter-widgets/controls",
            "_model_module_version": "1.5.0",
            "_view_count": null,
            "width": "300",
            "_view_module_version": "1.5.0",
            "layout": "IPY_MODEL_0c538d7f2b57432da40b91f020bf8c81",
            "height": "400",
            "_model_module": "@jupyter-widgets/controls"
          }
        },
        "83b68274c1f64a99a0f3921b57abedfd": {
          "model_module": "@jupyter-widgets/controls",
          "model_name": "ImageModel",
          "model_module_version": "1.5.0",
          "state": {
            "_view_name": "ImageView",
            "_dom_classes": [],
            "_model_name": "ImageModel",
            "format": "jpg",
            "_view_module": "@jupyter-widgets/controls",
            "_model_module_version": "1.5.0",
            "_view_count": null,
            "width": "300",
            "_view_module_version": "1.5.0",
            "layout": "IPY_MODEL_93ae71dfa1f34c9dbc3f685781667bd5",
            "height": "400",
            "_model_module": "@jupyter-widgets/controls"
          }
        },
        "450b28caed3d4db6a89fed418cb26b33": {
          "model_module": "@jupyter-widgets/controls",
          "model_name": "ImageModel",
          "model_module_version": "1.5.0",
          "state": {
            "_view_name": "ImageView",
            "_dom_classes": [],
            "_model_name": "ImageModel",
            "format": "jpg",
            "_view_module": "@jupyter-widgets/controls",
            "_model_module_version": "1.5.0",
            "_view_count": null,
            "width": "300",
            "_view_module_version": "1.5.0",
            "layout": "IPY_MODEL_f45379ddc8cc44a5942c7d9eadbab576",
            "height": "400",
            "_model_module": "@jupyter-widgets/controls"
          }
        },
        "d1b0f36d9bed4bc1b49ed07390c14cb4": {
          "model_module": "@jupyter-widgets/base",
          "model_name": "LayoutModel",
          "model_module_version": "1.2.0",
          "state": {
            "_view_name": "LayoutView",
            "grid_template_rows": null,
            "right": null,
            "justify_content": null,
            "_view_module": "@jupyter-widgets/base",
            "overflow": null,
            "_model_module_version": "1.2.0",
            "_view_count": null,
            "flex_flow": null,
            "width": null,
            "min_width": null,
            "border": null,
            "align_items": null,
            "bottom": null,
            "_model_module": "@jupyter-widgets/base",
            "top": null,
            "grid_column": null,
            "overflow_y": null,
            "overflow_x": null,
            "grid_auto_flow": null,
            "grid_area": null,
            "grid_template_columns": null,
            "flex": null,
            "_model_name": "LayoutModel",
            "justify_items": null,
            "grid_row": null,
            "max_height": null,
            "align_content": null,
            "visibility": null,
            "align_self": null,
            "height": null,
            "min_height": null,
            "padding": null,
            "grid_auto_rows": null,
            "grid_gap": null,
            "max_width": null,
            "order": null,
            "_view_module_version": "1.2.0",
            "grid_template_areas": null,
            "object_position": null,
            "object_fit": null,
            "grid_auto_columns": null,
            "margin": null,
            "display": null,
            "left": null
          }
        },
        "1a7da82c2d7b408a8acfd586499c3827": {
          "model_module": "@jupyter-widgets/base",
          "model_name": "LayoutModel",
          "model_module_version": "1.2.0",
          "state": {
            "_view_name": "LayoutView",
            "grid_template_rows": null,
            "right": null,
            "justify_content": null,
            "_view_module": "@jupyter-widgets/base",
            "overflow": null,
            "_model_module_version": "1.2.0",
            "_view_count": null,
            "flex_flow": null,
            "width": null,
            "min_width": null,
            "border": null,
            "align_items": null,
            "bottom": null,
            "_model_module": "@jupyter-widgets/base",
            "top": null,
            "grid_column": null,
            "overflow_y": null,
            "overflow_x": null,
            "grid_auto_flow": null,
            "grid_area": null,
            "grid_template_columns": null,
            "flex": null,
            "_model_name": "LayoutModel",
            "justify_items": null,
            "grid_row": null,
            "max_height": null,
            "align_content": null,
            "visibility": null,
            "align_self": null,
            "height": null,
            "min_height": null,
            "padding": null,
            "grid_auto_rows": null,
            "grid_gap": null,
            "max_width": null,
            "order": null,
            "_view_module_version": "1.2.0",
            "grid_template_areas": null,
            "object_position": null,
            "object_fit": null,
            "grid_auto_columns": null,
            "margin": null,
            "display": null,
            "left": null
          }
        },
        "0c538d7f2b57432da40b91f020bf8c81": {
          "model_module": "@jupyter-widgets/base",
          "model_name": "LayoutModel",
          "model_module_version": "1.2.0",
          "state": {
            "_view_name": "LayoutView",
            "grid_template_rows": null,
            "right": null,
            "justify_content": null,
            "_view_module": "@jupyter-widgets/base",
            "overflow": null,
            "_model_module_version": "1.2.0",
            "_view_count": null,
            "flex_flow": null,
            "width": null,
            "min_width": null,
            "border": null,
            "align_items": null,
            "bottom": null,
            "_model_module": "@jupyter-widgets/base",
            "top": null,
            "grid_column": null,
            "overflow_y": null,
            "overflow_x": null,
            "grid_auto_flow": null,
            "grid_area": null,
            "grid_template_columns": null,
            "flex": null,
            "_model_name": "LayoutModel",
            "justify_items": null,
            "grid_row": null,
            "max_height": null,
            "align_content": null,
            "visibility": null,
            "align_self": null,
            "height": null,
            "min_height": null,
            "padding": null,
            "grid_auto_rows": null,
            "grid_gap": null,
            "max_width": null,
            "order": null,
            "_view_module_version": "1.2.0",
            "grid_template_areas": null,
            "object_position": null,
            "object_fit": null,
            "grid_auto_columns": null,
            "margin": null,
            "display": null,
            "left": null
          }
        },
        "93ae71dfa1f34c9dbc3f685781667bd5": {
          "model_module": "@jupyter-widgets/base",
          "model_name": "LayoutModel",
          "model_module_version": "1.2.0",
          "state": {
            "_view_name": "LayoutView",
            "grid_template_rows": null,
            "right": null,
            "justify_content": null,
            "_view_module": "@jupyter-widgets/base",
            "overflow": null,
            "_model_module_version": "1.2.0",
            "_view_count": null,
            "flex_flow": null,
            "width": null,
            "min_width": null,
            "border": null,
            "align_items": null,
            "bottom": null,
            "_model_module": "@jupyter-widgets/base",
            "top": null,
            "grid_column": null,
            "overflow_y": null,
            "overflow_x": null,
            "grid_auto_flow": null,
            "grid_area": null,
            "grid_template_columns": null,
            "flex": null,
            "_model_name": "LayoutModel",
            "justify_items": null,
            "grid_row": null,
            "max_height": null,
            "align_content": null,
            "visibility": null,
            "align_self": null,
            "height": null,
            "min_height": null,
            "padding": null,
            "grid_auto_rows": null,
            "grid_gap": null,
            "max_width": null,
            "order": null,
            "_view_module_version": "1.2.0",
            "grid_template_areas": null,
            "object_position": null,
            "object_fit": null,
            "grid_auto_columns": null,
            "margin": null,
            "display": null,
            "left": null
          }
        },
        "f45379ddc8cc44a5942c7d9eadbab576": {
          "model_module": "@jupyter-widgets/base",
          "model_name": "LayoutModel",
          "model_module_version": "1.2.0",
          "state": {
            "_view_name": "LayoutView",
            "grid_template_rows": null,
            "right": null,
            "justify_content": null,
            "_view_module": "@jupyter-widgets/base",
            "overflow": null,
            "_model_module_version": "1.2.0",
            "_view_count": null,
            "flex_flow": null,
            "width": null,
            "min_width": null,
            "border": null,
            "align_items": null,
            "bottom": null,
            "_model_module": "@jupyter-widgets/base",
            "top": null,
            "grid_column": null,
            "overflow_y": null,
            "overflow_x": null,
            "grid_auto_flow": null,
            "grid_area": null,
            "grid_template_columns": null,
            "flex": null,
            "_model_name": "LayoutModel",
            "justify_items": null,
            "grid_row": null,
            "max_height": null,
            "align_content": null,
            "visibility": null,
            "align_self": null,
            "height": null,
            "min_height": null,
            "padding": null,
            "grid_auto_rows": null,
            "grid_gap": null,
            "max_width": null,
            "order": null,
            "_view_module_version": "1.2.0",
            "grid_template_areas": null,
            "object_position": null,
            "object_fit": null,
            "grid_auto_columns": null,
            "margin": null,
            "display": null,
            "left": null
          }
        },
        "e6bc94bd9b04489f86b90b4aa53e126c": {
          "model_module": "@jupyter-widgets/controls",
          "model_name": "HBoxModel",
          "model_module_version": "1.5.0",
          "state": {
            "_view_name": "HBoxView",
            "_dom_classes": [],
            "_model_name": "HBoxModel",
            "_view_module": "@jupyter-widgets/controls",
            "_model_module_version": "1.5.0",
            "_view_count": null,
            "_view_module_version": "1.5.0",
            "box_style": "",
            "layout": "IPY_MODEL_e4c1976f83224219b4a39666cb8e80f5",
            "_model_module": "@jupyter-widgets/controls",
            "children": [
              "IPY_MODEL_f64903f8e242453db815211e209f7fa1",
              "IPY_MODEL_ee45bdf654a24a488391137ccfda3eab",
              "IPY_MODEL_fa681faac88244e0baede80cc18f3fec",
              "IPY_MODEL_981092565e4349f08155d3b3ff719991",
              "IPY_MODEL_274bf2e3f0b4490ebe69254e474e6603"
            ]
          }
        },
        "e4c1976f83224219b4a39666cb8e80f5": {
          "model_module": "@jupyter-widgets/base",
          "model_name": "LayoutModel",
          "model_module_version": "1.2.0",
          "state": {
            "_view_name": "LayoutView",
            "grid_template_rows": null,
            "right": null,
            "justify_content": null,
            "_view_module": "@jupyter-widgets/base",
            "overflow": null,
            "_model_module_version": "1.2.0",
            "_view_count": null,
            "flex_flow": null,
            "width": null,
            "min_width": null,
            "border": null,
            "align_items": null,
            "bottom": null,
            "_model_module": "@jupyter-widgets/base",
            "top": null,
            "grid_column": null,
            "overflow_y": null,
            "overflow_x": null,
            "grid_auto_flow": null,
            "grid_area": null,
            "grid_template_columns": null,
            "flex": null,
            "_model_name": "LayoutModel",
            "justify_items": null,
            "grid_row": null,
            "max_height": null,
            "align_content": null,
            "visibility": null,
            "align_self": null,
            "height": null,
            "min_height": null,
            "padding": null,
            "grid_auto_rows": null,
            "grid_gap": null,
            "max_width": null,
            "order": null,
            "_view_module_version": "1.2.0",
            "grid_template_areas": null,
            "object_position": null,
            "object_fit": null,
            "grid_auto_columns": null,
            "margin": null,
            "display": null,
            "left": null
          }
        },
        "f64903f8e242453db815211e209f7fa1": {
          "model_module": "@jupyter-widgets/controls",
          "model_name": "ImageModel",
          "model_module_version": "1.5.0",
          "state": {
            "_view_name": "ImageView",
            "_dom_classes": [],
            "_model_name": "ImageModel",
            "format": "jpg",
            "_view_module": "@jupyter-widgets/controls",
            "_model_module_version": "1.5.0",
            "_view_count": null,
            "width": "300",
            "_view_module_version": "1.5.0",
            "layout": "IPY_MODEL_cb5a4a7020f9483abc8c9db56bfe2f3d",
            "height": "400",
            "_model_module": "@jupyter-widgets/controls"
          }
        },
        "ee45bdf654a24a488391137ccfda3eab": {
          "model_module": "@jupyter-widgets/controls",
          "model_name": "ImageModel",
          "model_module_version": "1.5.0",
          "state": {
            "_view_name": "ImageView",
            "_dom_classes": [],
            "_model_name": "ImageModel",
            "format": "jpg",
            "_view_module": "@jupyter-widgets/controls",
            "_model_module_version": "1.5.0",
            "_view_count": null,
            "width": "300",
            "_view_module_version": "1.5.0",
            "layout": "IPY_MODEL_ec2b06a9285d4254b96491da4d99e3de",
            "height": "400",
            "_model_module": "@jupyter-widgets/controls"
          }
        },
        "fa681faac88244e0baede80cc18f3fec": {
          "model_module": "@jupyter-widgets/controls",
          "model_name": "ImageModel",
          "model_module_version": "1.5.0",
          "state": {
            "_view_name": "ImageView",
            "_dom_classes": [],
            "_model_name": "ImageModel",
            "format": "jpg",
            "_view_module": "@jupyter-widgets/controls",
            "_model_module_version": "1.5.0",
            "_view_count": null,
            "width": "300",
            "_view_module_version": "1.5.0",
            "layout": "IPY_MODEL_a6d9f9ee6b474c8897a414873837a2bf",
            "height": "400",
            "_model_module": "@jupyter-widgets/controls"
          }
        },
        "981092565e4349f08155d3b3ff719991": {
          "model_module": "@jupyter-widgets/controls",
          "model_name": "ImageModel",
          "model_module_version": "1.5.0",
          "state": {
            "_view_name": "ImageView",
            "_dom_classes": [],
            "_model_name": "ImageModel",
            "format": "jpg",
            "_view_module": "@jupyter-widgets/controls",
            "_model_module_version": "1.5.0",
            "_view_count": null,
            "width": "300",
            "_view_module_version": "1.5.0",
            "layout": "IPY_MODEL_4d8c01d866e14c9eb3dd9aa58cb2e551",
            "height": "400",
            "_model_module": "@jupyter-widgets/controls"
          }
        },
        "274bf2e3f0b4490ebe69254e474e6603": {
          "model_module": "@jupyter-widgets/controls",
          "model_name": "ImageModel",
          "model_module_version": "1.5.0",
          "state": {
            "_view_name": "ImageView",
            "_dom_classes": [],
            "_model_name": "ImageModel",
            "format": "jpg",
            "_view_module": "@jupyter-widgets/controls",
            "_model_module_version": "1.5.0",
            "_view_count": null,
            "width": "300",
            "_view_module_version": "1.5.0",
            "layout": "IPY_MODEL_4dbe9c91d72342f69eb8f878e3d50510",
            "height": "400",
            "_model_module": "@jupyter-widgets/controls"
          }
        },
        "cb5a4a7020f9483abc8c9db56bfe2f3d": {
          "model_module": "@jupyter-widgets/base",
          "model_name": "LayoutModel",
          "model_module_version": "1.2.0",
          "state": {
            "_view_name": "LayoutView",
            "grid_template_rows": null,
            "right": null,
            "justify_content": null,
            "_view_module": "@jupyter-widgets/base",
            "overflow": null,
            "_model_module_version": "1.2.0",
            "_view_count": null,
            "flex_flow": null,
            "width": null,
            "min_width": null,
            "border": null,
            "align_items": null,
            "bottom": null,
            "_model_module": "@jupyter-widgets/base",
            "top": null,
            "grid_column": null,
            "overflow_y": null,
            "overflow_x": null,
            "grid_auto_flow": null,
            "grid_area": null,
            "grid_template_columns": null,
            "flex": null,
            "_model_name": "LayoutModel",
            "justify_items": null,
            "grid_row": null,
            "max_height": null,
            "align_content": null,
            "visibility": null,
            "align_self": null,
            "height": null,
            "min_height": null,
            "padding": null,
            "grid_auto_rows": null,
            "grid_gap": null,
            "max_width": null,
            "order": null,
            "_view_module_version": "1.2.0",
            "grid_template_areas": null,
            "object_position": null,
            "object_fit": null,
            "grid_auto_columns": null,
            "margin": null,
            "display": null,
            "left": null
          }
        },
        "ec2b06a9285d4254b96491da4d99e3de": {
          "model_module": "@jupyter-widgets/base",
          "model_name": "LayoutModel",
          "model_module_version": "1.2.0",
          "state": {
            "_view_name": "LayoutView",
            "grid_template_rows": null,
            "right": null,
            "justify_content": null,
            "_view_module": "@jupyter-widgets/base",
            "overflow": null,
            "_model_module_version": "1.2.0",
            "_view_count": null,
            "flex_flow": null,
            "width": null,
            "min_width": null,
            "border": null,
            "align_items": null,
            "bottom": null,
            "_model_module": "@jupyter-widgets/base",
            "top": null,
            "grid_column": null,
            "overflow_y": null,
            "overflow_x": null,
            "grid_auto_flow": null,
            "grid_area": null,
            "grid_template_columns": null,
            "flex": null,
            "_model_name": "LayoutModel",
            "justify_items": null,
            "grid_row": null,
            "max_height": null,
            "align_content": null,
            "visibility": null,
            "align_self": null,
            "height": null,
            "min_height": null,
            "padding": null,
            "grid_auto_rows": null,
            "grid_gap": null,
            "max_width": null,
            "order": null,
            "_view_module_version": "1.2.0",
            "grid_template_areas": null,
            "object_position": null,
            "object_fit": null,
            "grid_auto_columns": null,
            "margin": null,
            "display": null,
            "left": null
          }
        },
        "a6d9f9ee6b474c8897a414873837a2bf": {
          "model_module": "@jupyter-widgets/base",
          "model_name": "LayoutModel",
          "model_module_version": "1.2.0",
          "state": {
            "_view_name": "LayoutView",
            "grid_template_rows": null,
            "right": null,
            "justify_content": null,
            "_view_module": "@jupyter-widgets/base",
            "overflow": null,
            "_model_module_version": "1.2.0",
            "_view_count": null,
            "flex_flow": null,
            "width": null,
            "min_width": null,
            "border": null,
            "align_items": null,
            "bottom": null,
            "_model_module": "@jupyter-widgets/base",
            "top": null,
            "grid_column": null,
            "overflow_y": null,
            "overflow_x": null,
            "grid_auto_flow": null,
            "grid_area": null,
            "grid_template_columns": null,
            "flex": null,
            "_model_name": "LayoutModel",
            "justify_items": null,
            "grid_row": null,
            "max_height": null,
            "align_content": null,
            "visibility": null,
            "align_self": null,
            "height": null,
            "min_height": null,
            "padding": null,
            "grid_auto_rows": null,
            "grid_gap": null,
            "max_width": null,
            "order": null,
            "_view_module_version": "1.2.0",
            "grid_template_areas": null,
            "object_position": null,
            "object_fit": null,
            "grid_auto_columns": null,
            "margin": null,
            "display": null,
            "left": null
          }
        },
        "4d8c01d866e14c9eb3dd9aa58cb2e551": {
          "model_module": "@jupyter-widgets/base",
          "model_name": "LayoutModel",
          "model_module_version": "1.2.0",
          "state": {
            "_view_name": "LayoutView",
            "grid_template_rows": null,
            "right": null,
            "justify_content": null,
            "_view_module": "@jupyter-widgets/base",
            "overflow": null,
            "_model_module_version": "1.2.0",
            "_view_count": null,
            "flex_flow": null,
            "width": null,
            "min_width": null,
            "border": null,
            "align_items": null,
            "bottom": null,
            "_model_module": "@jupyter-widgets/base",
            "top": null,
            "grid_column": null,
            "overflow_y": null,
            "overflow_x": null,
            "grid_auto_flow": null,
            "grid_area": null,
            "grid_template_columns": null,
            "flex": null,
            "_model_name": "LayoutModel",
            "justify_items": null,
            "grid_row": null,
            "max_height": null,
            "align_content": null,
            "visibility": null,
            "align_self": null,
            "height": null,
            "min_height": null,
            "padding": null,
            "grid_auto_rows": null,
            "grid_gap": null,
            "max_width": null,
            "order": null,
            "_view_module_version": "1.2.0",
            "grid_template_areas": null,
            "object_position": null,
            "object_fit": null,
            "grid_auto_columns": null,
            "margin": null,
            "display": null,
            "left": null
          }
        },
        "4dbe9c91d72342f69eb8f878e3d50510": {
          "model_module": "@jupyter-widgets/base",
          "model_name": "LayoutModel",
          "model_module_version": "1.2.0",
          "state": {
            "_view_name": "LayoutView",
            "grid_template_rows": null,
            "right": null,
            "justify_content": null,
            "_view_module": "@jupyter-widgets/base",
            "overflow": null,
            "_model_module_version": "1.2.0",
            "_view_count": null,
            "flex_flow": null,
            "width": null,
            "min_width": null,
            "border": null,
            "align_items": null,
            "bottom": null,
            "_model_module": "@jupyter-widgets/base",
            "top": null,
            "grid_column": null,
            "overflow_y": null,
            "overflow_x": null,
            "grid_auto_flow": null,
            "grid_area": null,
            "grid_template_columns": null,
            "flex": null,
            "_model_name": "LayoutModel",
            "justify_items": null,
            "grid_row": null,
            "max_height": null,
            "align_content": null,
            "visibility": null,
            "align_self": null,
            "height": null,
            "min_height": null,
            "padding": null,
            "grid_auto_rows": null,
            "grid_gap": null,
            "max_width": null,
            "order": null,
            "_view_module_version": "1.2.0",
            "grid_template_areas": null,
            "object_position": null,
            "object_fit": null,
            "grid_auto_columns": null,
            "margin": null,
            "display": null,
            "left": null
          }
        },
        "6424d61993da4aa18a02bd7a1ee405aa": {
          "model_module": "@jupyter-widgets/controls",
          "model_name": "HBoxModel",
          "model_module_version": "1.5.0",
          "state": {
            "_view_name": "HBoxView",
            "_dom_classes": [],
            "_model_name": "HBoxModel",
            "_view_module": "@jupyter-widgets/controls",
            "_model_module_version": "1.5.0",
            "_view_count": null,
            "_view_module_version": "1.5.0",
            "box_style": "",
            "layout": "IPY_MODEL_78a886bc6105420db4f1dca570fc3597",
            "_model_module": "@jupyter-widgets/controls",
            "children": [
              "IPY_MODEL_7ec55f9130e14fe88f3e4d3c76f79686",
              "IPY_MODEL_658c1148848545af8bb6758a3fd061de",
              "IPY_MODEL_6571db6af92448c4b6f8d3938b855f3a",
              "IPY_MODEL_472c6abf68d84a0894abdccac5d90b99",
              "IPY_MODEL_9e095ba50c6547e0b544dc97dad6dee7"
            ]
          }
        },
        "78a886bc6105420db4f1dca570fc3597": {
          "model_module": "@jupyter-widgets/base",
          "model_name": "LayoutModel",
          "model_module_version": "1.2.0",
          "state": {
            "_view_name": "LayoutView",
            "grid_template_rows": null,
            "right": null,
            "justify_content": null,
            "_view_module": "@jupyter-widgets/base",
            "overflow": null,
            "_model_module_version": "1.2.0",
            "_view_count": null,
            "flex_flow": null,
            "width": null,
            "min_width": null,
            "border": null,
            "align_items": null,
            "bottom": null,
            "_model_module": "@jupyter-widgets/base",
            "top": null,
            "grid_column": null,
            "overflow_y": null,
            "overflow_x": null,
            "grid_auto_flow": null,
            "grid_area": null,
            "grid_template_columns": null,
            "flex": null,
            "_model_name": "LayoutModel",
            "justify_items": null,
            "grid_row": null,
            "max_height": null,
            "align_content": null,
            "visibility": null,
            "align_self": null,
            "height": null,
            "min_height": null,
            "padding": null,
            "grid_auto_rows": null,
            "grid_gap": null,
            "max_width": null,
            "order": null,
            "_view_module_version": "1.2.0",
            "grid_template_areas": null,
            "object_position": null,
            "object_fit": null,
            "grid_auto_columns": null,
            "margin": null,
            "display": null,
            "left": null
          }
        },
        "7ec55f9130e14fe88f3e4d3c76f79686": {
          "model_module": "@jupyter-widgets/controls",
          "model_name": "ImageModel",
          "model_module_version": "1.5.0",
          "state": {
            "_view_name": "ImageView",
            "_dom_classes": [],
            "_model_name": "ImageModel",
            "format": "jpg",
            "_view_module": "@jupyter-widgets/controls",
            "_model_module_version": "1.5.0",
            "_view_count": null,
            "width": "300",
            "_view_module_version": "1.5.0",
            "layout": "IPY_MODEL_e5cc2ab5426240b7b96e74717df2d3fa",
            "height": "400",
            "_model_module": "@jupyter-widgets/controls"
          }
        },
        "658c1148848545af8bb6758a3fd061de": {
          "model_module": "@jupyter-widgets/controls",
          "model_name": "ImageModel",
          "model_module_version": "1.5.0",
          "state": {
            "_view_name": "ImageView",
            "_dom_classes": [],
            "_model_name": "ImageModel",
            "format": "jpg",
            "_view_module": "@jupyter-widgets/controls",
            "_model_module_version": "1.5.0",
            "_view_count": null,
            "width": "300",
            "_view_module_version": "1.5.0",
            "layout": "IPY_MODEL_cc4cb38b71a54389935745e7ecbad08e",
            "height": "400",
            "_model_module": "@jupyter-widgets/controls"
          }
        },
        "6571db6af92448c4b6f8d3938b855f3a": {
          "model_module": "@jupyter-widgets/controls",
          "model_name": "ImageModel",
          "model_module_version": "1.5.0",
          "state": {
            "_view_name": "ImageView",
            "_dom_classes": [],
            "_model_name": "ImageModel",
            "format": "jpg",
            "_view_module": "@jupyter-widgets/controls",
            "_model_module_version": "1.5.0",
            "_view_count": null,
            "width": "300",
            "_view_module_version": "1.5.0",
            "layout": "IPY_MODEL_92ba7836ecab417999934de5480fad67",
            "height": "400",
            "_model_module": "@jupyter-widgets/controls"
          }
        },
        "472c6abf68d84a0894abdccac5d90b99": {
          "model_module": "@jupyter-widgets/controls",
          "model_name": "ImageModel",
          "model_module_version": "1.5.0",
          "state": {
            "_view_name": "ImageView",
            "_dom_classes": [],
            "_model_name": "ImageModel",
            "format": "jpg",
            "_view_module": "@jupyter-widgets/controls",
            "_model_module_version": "1.5.0",
            "_view_count": null,
            "width": "300",
            "_view_module_version": "1.5.0",
            "layout": "IPY_MODEL_e495c1a0a01648bc8d2bdd2759757cbb",
            "height": "400",
            "_model_module": "@jupyter-widgets/controls"
          }
        },
        "9e095ba50c6547e0b544dc97dad6dee7": {
          "model_module": "@jupyter-widgets/controls",
          "model_name": "ImageModel",
          "model_module_version": "1.5.0",
          "state": {
            "_view_name": "ImageView",
            "_dom_classes": [],
            "_model_name": "ImageModel",
            "format": "jpg",
            "_view_module": "@jupyter-widgets/controls",
            "_model_module_version": "1.5.0",
            "_view_count": null,
            "width": "300",
            "_view_module_version": "1.5.0",
            "layout": "IPY_MODEL_941528d2befa403aa331dadeffcfdfc9",
            "height": "400",
            "_model_module": "@jupyter-widgets/controls"
          }
        },
        "e5cc2ab5426240b7b96e74717df2d3fa": {
          "model_module": "@jupyter-widgets/base",
          "model_name": "LayoutModel",
          "model_module_version": "1.2.0",
          "state": {
            "_view_name": "LayoutView",
            "grid_template_rows": null,
            "right": null,
            "justify_content": null,
            "_view_module": "@jupyter-widgets/base",
            "overflow": null,
            "_model_module_version": "1.2.0",
            "_view_count": null,
            "flex_flow": null,
            "width": null,
            "min_width": null,
            "border": null,
            "align_items": null,
            "bottom": null,
            "_model_module": "@jupyter-widgets/base",
            "top": null,
            "grid_column": null,
            "overflow_y": null,
            "overflow_x": null,
            "grid_auto_flow": null,
            "grid_area": null,
            "grid_template_columns": null,
            "flex": null,
            "_model_name": "LayoutModel",
            "justify_items": null,
            "grid_row": null,
            "max_height": null,
            "align_content": null,
            "visibility": null,
            "align_self": null,
            "height": null,
            "min_height": null,
            "padding": null,
            "grid_auto_rows": null,
            "grid_gap": null,
            "max_width": null,
            "order": null,
            "_view_module_version": "1.2.0",
            "grid_template_areas": null,
            "object_position": null,
            "object_fit": null,
            "grid_auto_columns": null,
            "margin": null,
            "display": null,
            "left": null
          }
        },
        "cc4cb38b71a54389935745e7ecbad08e": {
          "model_module": "@jupyter-widgets/base",
          "model_name": "LayoutModel",
          "model_module_version": "1.2.0",
          "state": {
            "_view_name": "LayoutView",
            "grid_template_rows": null,
            "right": null,
            "justify_content": null,
            "_view_module": "@jupyter-widgets/base",
            "overflow": null,
            "_model_module_version": "1.2.0",
            "_view_count": null,
            "flex_flow": null,
            "width": null,
            "min_width": null,
            "border": null,
            "align_items": null,
            "bottom": null,
            "_model_module": "@jupyter-widgets/base",
            "top": null,
            "grid_column": null,
            "overflow_y": null,
            "overflow_x": null,
            "grid_auto_flow": null,
            "grid_area": null,
            "grid_template_columns": null,
            "flex": null,
            "_model_name": "LayoutModel",
            "justify_items": null,
            "grid_row": null,
            "max_height": null,
            "align_content": null,
            "visibility": null,
            "align_self": null,
            "height": null,
            "min_height": null,
            "padding": null,
            "grid_auto_rows": null,
            "grid_gap": null,
            "max_width": null,
            "order": null,
            "_view_module_version": "1.2.0",
            "grid_template_areas": null,
            "object_position": null,
            "object_fit": null,
            "grid_auto_columns": null,
            "margin": null,
            "display": null,
            "left": null
          }
        },
        "92ba7836ecab417999934de5480fad67": {
          "model_module": "@jupyter-widgets/base",
          "model_name": "LayoutModel",
          "model_module_version": "1.2.0",
          "state": {
            "_view_name": "LayoutView",
            "grid_template_rows": null,
            "right": null,
            "justify_content": null,
            "_view_module": "@jupyter-widgets/base",
            "overflow": null,
            "_model_module_version": "1.2.0",
            "_view_count": null,
            "flex_flow": null,
            "width": null,
            "min_width": null,
            "border": null,
            "align_items": null,
            "bottom": null,
            "_model_module": "@jupyter-widgets/base",
            "top": null,
            "grid_column": null,
            "overflow_y": null,
            "overflow_x": null,
            "grid_auto_flow": null,
            "grid_area": null,
            "grid_template_columns": null,
            "flex": null,
            "_model_name": "LayoutModel",
            "justify_items": null,
            "grid_row": null,
            "max_height": null,
            "align_content": null,
            "visibility": null,
            "align_self": null,
            "height": null,
            "min_height": null,
            "padding": null,
            "grid_auto_rows": null,
            "grid_gap": null,
            "max_width": null,
            "order": null,
            "_view_module_version": "1.2.0",
            "grid_template_areas": null,
            "object_position": null,
            "object_fit": null,
            "grid_auto_columns": null,
            "margin": null,
            "display": null,
            "left": null
          }
        },
        "e495c1a0a01648bc8d2bdd2759757cbb": {
          "model_module": "@jupyter-widgets/base",
          "model_name": "LayoutModel",
          "model_module_version": "1.2.0",
          "state": {
            "_view_name": "LayoutView",
            "grid_template_rows": null,
            "right": null,
            "justify_content": null,
            "_view_module": "@jupyter-widgets/base",
            "overflow": null,
            "_model_module_version": "1.2.0",
            "_view_count": null,
            "flex_flow": null,
            "width": null,
            "min_width": null,
            "border": null,
            "align_items": null,
            "bottom": null,
            "_model_module": "@jupyter-widgets/base",
            "top": null,
            "grid_column": null,
            "overflow_y": null,
            "overflow_x": null,
            "grid_auto_flow": null,
            "grid_area": null,
            "grid_template_columns": null,
            "flex": null,
            "_model_name": "LayoutModel",
            "justify_items": null,
            "grid_row": null,
            "max_height": null,
            "align_content": null,
            "visibility": null,
            "align_self": null,
            "height": null,
            "min_height": null,
            "padding": null,
            "grid_auto_rows": null,
            "grid_gap": null,
            "max_width": null,
            "order": null,
            "_view_module_version": "1.2.0",
            "grid_template_areas": null,
            "object_position": null,
            "object_fit": null,
            "grid_auto_columns": null,
            "margin": null,
            "display": null,
            "left": null
          }
        },
        "941528d2befa403aa331dadeffcfdfc9": {
          "model_module": "@jupyter-widgets/base",
          "model_name": "LayoutModel",
          "model_module_version": "1.2.0",
          "state": {
            "_view_name": "LayoutView",
            "grid_template_rows": null,
            "right": null,
            "justify_content": null,
            "_view_module": "@jupyter-widgets/base",
            "overflow": null,
            "_model_module_version": "1.2.0",
            "_view_count": null,
            "flex_flow": null,
            "width": null,
            "min_width": null,
            "border": null,
            "align_items": null,
            "bottom": null,
            "_model_module": "@jupyter-widgets/base",
            "top": null,
            "grid_column": null,
            "overflow_y": null,
            "overflow_x": null,
            "grid_auto_flow": null,
            "grid_area": null,
            "grid_template_columns": null,
            "flex": null,
            "_model_name": "LayoutModel",
            "justify_items": null,
            "grid_row": null,
            "max_height": null,
            "align_content": null,
            "visibility": null,
            "align_self": null,
            "height": null,
            "min_height": null,
            "padding": null,
            "grid_auto_rows": null,
            "grid_gap": null,
            "max_width": null,
            "order": null,
            "_view_module_version": "1.2.0",
            "grid_template_areas": null,
            "object_position": null,
            "object_fit": null,
            "grid_auto_columns": null,
            "margin": null,
            "display": null,
            "left": null
          }
        }
      }
    }
  },
  "nbformat": 4,
  "nbformat_minor": 0
}